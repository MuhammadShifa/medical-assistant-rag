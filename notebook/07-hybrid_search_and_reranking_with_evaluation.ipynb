{
 "cells": [
  {
   "cell_type": "code",
   "execution_count": 1,
   "id": "db2390f4",
   "metadata": {},
   "outputs": [],
   "source": [
    "import json\n",
    "import pandas as pd\n",
    "from tqdm.auto import tqdm\n",
    "from sentence_transformers import SentenceTransformer\n",
    "from qdrant_client import QdrantClient\n",
    "from qdrant_client.http import models"
   ]
  },
  {
   "cell_type": "code",
   "execution_count": 2,
   "id": "f0ebed26",
   "metadata": {},
   "outputs": [],
   "source": [
    "# Load the dataset\n",
    "with open('./../dataset/medical_qa_documents_with_id.json', 'rt') as f_in:\n",
    "    docs_raw = json.load(f_in)"
   ]
  },
  {
   "cell_type": "code",
   "execution_count": 3,
   "id": "1092eb89",
   "metadata": {},
   "outputs": [],
   "source": [
    "documents = []\n",
    "\n",
    "for docs_info in docs_raw:\n",
    "    for doc in docs_info['documents']:\n",
    "        documents.append(doc)"
   ]
  },
  {
   "cell_type": "markdown",
   "id": "3ae87422",
   "metadata": {},
   "source": [
    "## Sparse vector search with BM25"
   ]
  },
  {
   "cell_type": "code",
   "execution_count": 4,
   "id": "270f7209",
   "metadata": {},
   "outputs": [],
   "source": [
    "# Connect Qdrant Client\n",
    "\n",
    "qd_client = QdrantClient(\n",
    "    url=\"http://localhost:6333\",\n",
    "    timeout=60  # seconds (1 minutes)\n",
    ")\n",
    "\n",
    "collection_name = \"medical-faq-sparse\""
   ]
  },
  {
   "cell_type": "code",
   "execution_count": 7,
   "id": "b1517666",
   "metadata": {},
   "outputs": [
    {
     "data": {
      "text/plain": [
       "True"
      ]
     },
     "execution_count": 7,
     "metadata": {},
     "output_type": "execute_result"
    }
   ],
   "source": [
    "from qdrant_client import models\n",
    "\n",
    "# Create the collection with specified sparse vector parameters\n",
    "qd_client.create_collection(\n",
    "    collection_name=collection_name,\n",
    "    sparse_vectors_config={\n",
    "        \"bm25\": models.SparseVectorParams(\n",
    "            modifier=models.Modifier.IDF,\n",
    "        )\n",
    "    }\n",
    ")"
   ]
  },
  {
   "cell_type": "code",
   "execution_count": 21,
   "id": "aa32dafe",
   "metadata": {},
   "outputs": [
    {
     "name": "stderr",
     "output_type": "stream",
     "text": [
      "100%|███████████████████████████████████████████| 75/75 [00:25<00:00,  2.99it/s]\n"
     ]
    }
   ],
   "source": [
    "from tqdm import tqdm\n",
    "import uuid\n",
    "\n",
    "\n",
    "BATCH_SIZE = 200  # adjust depending on dataset size\n",
    "\n",
    "all_points = [\n",
    "    models.PointStruct(\n",
    "        id=uuid.uuid4().hex,\n",
    "        vector={\n",
    "            \"bm25\": models.Document(\n",
    "                text=doc[\"answer\"],\n",
    "                model=\"Qdrant/bm25\",\n",
    "            ),\n",
    "        },\n",
    "        payload={\n",
    "            \"answer\": doc[\"answer\"],\n",
    "            \"question\": doc[\"question\"],\n",
    "            \"qtype\": doc[\"qtype\"],\n",
    "            \"id\": doc[\"id\"]\n",
    "        }\n",
    "    )\n",
    "    for docs_info in docs_raw\n",
    "    for doc in docs_info['documents']\n",
    "]\n",
    "\n",
    "# Send in chunks\n",
    "for i in tqdm(range(0, len(all_points), BATCH_SIZE)):\n",
    "    batch = all_points[i:i+BATCH_SIZE]\n",
    "    qd_client.upsert(collection_name=collection_name, points=batch)\n"
   ]
  },
  {
   "cell_type": "markdown",
   "id": "b8239b07",
   "metadata": {},
   "source": [
    "## Running sparse vector search with BM25"
   ]
  },
  {
   "cell_type": "code",
   "execution_count": 9,
   "id": "9aec77dc",
   "metadata": {},
   "outputs": [],
   "source": [
    "def bm25_search(query: str, limit: int = 4):\n",
    "    results = qd_client.query_points(\n",
    "        collection_name=collection_name,\n",
    "        query=models.Document(\n",
    "            text=query,\n",
    "            model=\"Qdrant/bm25\",\n",
    "        ),\n",
    "        using=\"bm25\",\n",
    "        limit=limit,\n",
    "        with_payload=True,\n",
    "    )\n",
    "    return results.points\n"
   ]
  },
  {
   "cell_type": "code",
   "execution_count": 10,
   "id": "f75c8955",
   "metadata": {},
   "outputs": [
    {
     "data": {
      "text/plain": [
       "[]"
      ]
     },
     "execution_count": 10,
     "metadata": {},
     "output_type": "execute_result"
    }
   ],
   "source": [
    "results = bm25_search(\"chroma\")\n",
    "results"
   ]
  },
  {
   "cell_type": "code",
   "execution_count": 11,
   "id": "d0b923f5",
   "metadata": {},
   "outputs": [
    {
     "name": "stdout",
     "output_type": "stream",
     "text": [
      "Score: 9.776 | answer: Summary : In the early 1980s, when the HIV/AIDS epidemic began, patients rarely lived longer than a few years. But today...\n",
      "\n",
      "Score: 9.756 | answer: Summary : HIV, the human immunodeficiency virus, kills or damages cells of the body's immune system. The most advanced s...\n",
      "\n",
      "Score: 9.415 | answer: HIV stands for human immunodeficiency virus. It kills or damages the body's immune system cells. AIDS stands for acquire...\n",
      "\n",
      "Score: 9.409 | answer: Infection with HIV is serious. But the outlook for people with HIV/AIDS is improving. If you are infected with HIV, ther...\n",
      "\n"
     ]
    }
   ],
   "source": [
    "results = bm25_search(\"hiv\")\n",
    "for r in results:\n",
    "    print(f\"Score: {r.score:.3f} | answer: {r.payload['answer'][:120]}...\\n\")\n"
   ]
  },
  {
   "cell_type": "markdown",
   "id": "65be9d50",
   "metadata": {},
   "source": [
    "### Natural language like queries\n"
   ]
  },
  {
   "cell_type": "code",
   "execution_count": 12,
   "id": "551b540b",
   "metadata": {
    "scrolled": true
   },
   "outputs": [
    {
     "name": "stdout",
     "output_type": "stream",
     "text": [
      "{\n",
      "  \"answer\": \"Achondroplasia is a disorder of bone growth that prevents the changing of cartilage (particularly in the long bones of the arms and legs) to bone. It is characterized by dwarfism, limited range of motion at the elbows, large head size, small fingers, and normal intelligence. Achondroplasia can cause health complications such as apnea, obesity, recurrent ear infections, and lordosis of the spine. Achondroplasia is caused by mutations in the FGFR3 gene. It is inherited in an autosomal dominant fashion.\",\n",
      "  \"question\": \"What is (are) Achondroplasia?\",\n",
      "  \"qtype\": \"information\",\n",
      "  \"id\": \"aed895b1\"\n",
      "}\n"
     ]
    }
   ],
   "source": [
    "import random\n",
    "import json\n",
    "\n",
    "random.seed(12001)\n",
    "\n",
    "docs_records = random.choice(docs_raw)\n",
    "docs_record = random.choice(docs_records[\"documents\"])\n",
    "print(json.dumps(docs_record, indent=2))"
   ]
  },
  {
   "cell_type": "code",
   "execution_count": 13,
   "id": "ba530f8f",
   "metadata": {},
   "outputs": [
    {
     "name": "stdout",
     "output_type": "stream",
     "text": [
      "These resources address the diagnosis or management of achondroplasia: - Gene Review: Gene Review: Achondroplasia - GeneFacts: Achondroplasia: Diagnosis - GeneFacts: Achondroplasia: Management - Genetic Testing Registry: Achondroplasia - MedlinePlus Encyclopedia: Achondroplasia - MedlinePlus Encyclopedia: Hydrocephalus - MedlinePlus Encyclopedia: Lordosis - MedlinePlus Encyclopedia: Spinal Stenosis These resources from MedlinePlus offer information about the diagnosis and management of various health conditions: - Diagnostic Tests - Drug Therapy - Surgery and Rehabilitation - Genetic Counseling - Palliative Care\n"
     ]
    }
   ],
   "source": [
    "results = bm25_search(docs_record[\"question\"])\n",
    "print(results[0].payload[\"answer\"])"
   ]
  },
  {
   "cell_type": "markdown",
   "id": "c26cee13",
   "metadata": {},
   "source": [
    "## Sparse and Dense Embedding Vector search with BM25 and embedding model\n"
   ]
  },
  {
   "cell_type": "markdown",
   "id": "a6c015bb",
   "metadata": {},
   "source": [
    "##### Embedding model"
   ]
  },
  {
   "cell_type": "code",
   "execution_count": 14,
   "id": "cec4a697",
   "metadata": {},
   "outputs": [],
   "source": [
    "EMBEDDING_DIMENSIONALITY=384\n",
    "\n",
    "# load embedding model\n",
    "model_name = 'multi-qa-MiniLM-L6-cos-v1'\n",
    "embed_model = SentenceTransformer(model_name)"
   ]
  },
  {
   "cell_type": "code",
   "execution_count": 15,
   "id": "9563aa71",
   "metadata": {},
   "outputs": [],
   "source": [
    "collection_name = \"medical-faq-sparse-and-dense\"\n",
    "\n",
    "qd_client.recreate_collection(\n",
    "    collection_name=collection_name,\n",
    "    vectors_config={\n",
    "        \"dense-vector\": models.VectorParams(\n",
    "            size=EMBEDDING_DIMENSIONALITY,\n",
    "            distance=models.Distance.COSINE\n",
    "        )\n",
    "    },\n",
    "    sparse_vectors_config={\n",
    "        \"bm25\": models.SparseVectorParams(\n",
    "            modifier=models.Modifier.IDF,\n",
    "        )\n",
    "    }\n",
    ")\n"
   ]
  },
  {
   "cell_type": "markdown",
   "id": "eaa6e5b8",
   "metadata": {},
   "source": [
    "### Generate Embeeding Vector ONLY if it's not already generated"
   ]
  },
  {
   "cell_type": "code",
   "execution_count": null,
   "id": "69ad63bd",
   "metadata": {},
   "outputs": [],
   "source": [
    "# no need to run embedding is already generated and locally saved\n",
    "vectors = []\n",
    "\n",
    "for doc in tqdm(documents):\n",
    "    question = doc['question']\n",
    "    answer = doc['answer']\n",
    "    vector = embed_model.encode(question + ' ' + answer)\n",
    "    vectors.append(vector)"
   ]
  },
  {
   "cell_type": "code",
   "execution_count": null,
   "id": "a406ae67",
   "metadata": {},
   "outputs": [],
   "source": [
    "# Save\n",
    "with open(\"./../dataset/documents-vectors-multi-qa-MiniLM-L6-cos-v1.pkl\", \"wb\") as f:\n",
    "    pickle.dump(vectors, f)\n",
    "\n",
    "print(\"Saved vectors locally\")"
   ]
  },
  {
   "cell_type": "markdown",
   "id": "6dcc24db",
   "metadata": {},
   "source": [
    "### Load  the embedding vectors if it's already generated"
   ]
  },
  {
   "cell_type": "code",
   "execution_count": 16,
   "id": "a0486516",
   "metadata": {},
   "outputs": [
    {
     "name": "stdout",
     "output_type": "stream",
     "text": [
      "Loaded 14979 vectors and 14979 documents\n"
     ]
    }
   ],
   "source": [
    "import pickle\n",
    "with open(\"./../dataset/documents-vectors-multi-qa-MiniLM-L6-cos-v1.pkl\", \"rb\") as f:\n",
    "    vectors = pickle.load(f)\n",
    "\n",
    "print(f\"Loaded {len(vectors)} vectors and {len(documents)} documents\")"
   ]
  },
  {
   "cell_type": "markdown",
   "id": "6d119e05",
   "metadata": {},
   "source": [
    "#### embedding and sparse vector ingestion in qdrant"
   ]
  },
  {
   "cell_type": "code",
   "execution_count": 30,
   "id": "e47387ee",
   "metadata": {},
   "outputs": [],
   "source": [
    "from tqdm import tqdm\n",
    "import uuid\n",
    "\n",
    "BATCH_SIZE = 200  # adjust depending on dataset size\n",
    "\n",
    "# Prepare all points\n",
    "all_points = []\n",
    "vector_index = 0  # track embedding index globally across all docs\n",
    "\n",
    "for docs_info in docs_raw:\n",
    "    for doc in docs_info[\"documents\"]:\n",
    "        # make sure each document gets the correct vector\n",
    "        dense_vector = vectors[vector_index]\n",
    "        vector_index += 1\n",
    "\n",
    "        all_points.append(\n",
    "            models.PointStruct(\n",
    "                id=uuid.uuid4().hex,  # generate a unique valid UUID for each doc\n",
    "                vector={\n",
    "                    # dense embedding (note: typo fixed from \"desnse-vector\")\n",
    "                    \"dense-vector\": dense_vector.tolist(),\n",
    "                    \n",
    "                    # sparse embedding\n",
    "                    \"bm25\": models.Document(\n",
    "                        text=doc[\"answer\"],\n",
    "                        model=\"Qdrant/bm25\",\n",
    "                    ),\n",
    "                },\n",
    "                payload={\n",
    "                    \"answer\": doc[\"answer\"],\n",
    "                    \"question\": doc[\"question\"],\n",
    "                    \"qtype\": doc[\"qtype\"],\n",
    "                    \"id\": doc[\"id\"]\n",
    "                }\n",
    "            )\n",
    "        )\n"
   ]
  },
  {
   "cell_type": "code",
   "execution_count": 31,
   "id": "b898a724",
   "metadata": {},
   "outputs": [
    {
     "name": "stderr",
     "output_type": "stream",
     "text": [
      "Uploading to Qdrant: 100%|██████████████████████| 75/75 [00:49<00:00,  1.50it/s]\n"
     ]
    }
   ],
   "source": [
    "for i in tqdm(range(0, len(all_points), BATCH_SIZE), desc=\"Uploading to Qdrant\"):\n",
    "    batch = all_points[i:i + BATCH_SIZE]\n",
    "    qd_client.upsert(collection_name=collection_name, points=batch)"
   ]
  },
  {
   "cell_type": "markdown",
   "id": "920f3e2d",
   "metadata": {},
   "source": [
    "#### Running multi-stage search with embedding vector and BM25"
   ]
  },
  {
   "cell_type": "code",
   "execution_count": 17,
   "id": "0daca3aa",
   "metadata": {},
   "outputs": [],
   "source": [
    "def multi_stage_search(query: str, limit: int = 1):\n",
    "    results = qd_client.query_points(\n",
    "        collection_name=collection_name,\n",
    "        prefetch=[\n",
    "            models.Prefetch(\n",
    "                query= embed_model.encode([query])[0].tolist(),\n",
    "                using=\"dense-vector\",\n",
    "                limit=(10 * limit),\n",
    "            ),\n",
    "        ],\n",
    "        query=models.Document(\n",
    "            text=query,\n",
    "            model=\"Qdrant/bm25\",\n",
    "        ),\n",
    "        using=\"bm25\",\n",
    "        limit=limit,\n",
    "        with_payload=True,\n",
    "    )\n",
    "    return results.points\n"
   ]
  },
  {
   "cell_type": "code",
   "execution_count": 18,
   "id": "531d09ab",
   "metadata": {
    "scrolled": true
   },
   "outputs": [
    {
     "name": "stdout",
     "output_type": "stream",
     "text": [
      "{\n",
      "  \"answer\": \"Achondroplasia is a disorder of bone growth that prevents the changing of cartilage (particularly in the long bones of the arms and legs) to bone. It is characterized by dwarfism, limited range of motion at the elbows, large head size, small fingers, and normal intelligence. Achondroplasia can cause health complications such as apnea, obesity, recurrent ear infections, and lordosis of the spine. Achondroplasia is caused by mutations in the FGFR3 gene. It is inherited in an autosomal dominant fashion.\",\n",
      "  \"question\": \"What is (are) Achondroplasia?\",\n",
      "  \"qtype\": \"information\",\n",
      "  \"id\": \"aed895b1\"\n",
      "}\n"
     ]
    }
   ],
   "source": [
    "print(json.dumps(docs_record, indent=2))"
   ]
  },
  {
   "cell_type": "code",
   "execution_count": 19,
   "id": "d651e5c0",
   "metadata": {},
   "outputs": [
    {
     "name": "stdout",
     "output_type": "stream",
     "text": [
      "Achondroplasia is a form of short-limbed dwarfism. The word achondroplasia literally means \"without cartilage formation.\" Cartilage is a tough but flexible tissue that makes up much of the skeleton during early development. However, in achondroplasia the problem is not in forming cartilage but in converting it to bone (a process called ossification), particularly in the long bones of the arms and legs. Achondroplasia is similar to another skeletal disorder called hypochondroplasia, but the features of achondroplasia tend to be more severe. All people with achondroplasia have short stature. The average height of an adult male with achondroplasia is 131 centimeters (4 feet, 4 inches), and the average height for adult females is 124 centimeters (4 feet, 1 inch). Characteristic features of achondroplasia include an average-size trunk, short arms and legs with particularly short upper arms and thighs, limited range of motion at the elbows, and an enlarged head (macrocephaly) with a prominent forehead. Fingers are typically short and the ring finger and middle finger may diverge, giving the hand a three-pronged (trident) appearance. People with achondroplasia are generally of normal intelligence. Health problems commonly associated with achondroplasia include episodes in which breathing slows or stops for short periods (apnea), obesity, and recurrent ear infections. In childhood, individuals with the condition usually develop a pronounced and permanent sway of the lower back (lordosis) and bowed legs. Some affected people also develop abnormal front-to-back curvature of the spine (kyphosis) and back pain. A potentially serious complication of achondroplasia is spinal stenosis, which is a narrowing of the spinal canal that can pinch (compress) the upper part of the spinal cord. Spinal stenosis is associated with pain, tingling, and weakness in the legs that can cause difficulty with walking. Another uncommon but serious complication of achondroplasia is hydrocephalus, which is a buildup of fluid in the brain in affected children that can lead to increased head size and related brain abnormalities.\n"
     ]
    }
   ],
   "source": [
    "results = multi_stage_search(docs_record[\"question\"])\n",
    "print(results[0].payload[\"answer\"])"
   ]
  },
  {
   "cell_type": "markdown",
   "id": "35fc993c",
   "metadata": {},
   "source": [
    "### Building Hybrid Search\n",
    "\n",
    "#### 1.Fusion"
   ]
  },
  {
   "cell_type": "code",
   "execution_count": 20,
   "id": "cb4bee92",
   "metadata": {},
   "outputs": [],
   "source": [
    "def rrf_search(query: str, limit: int = 3):\n",
    "    results = qd_client.query_points(\n",
    "        collection_name=collection_name,\n",
    "        prefetch=[\n",
    "            models.Prefetch(\n",
    "                query= embed_model.encode([query])[0].tolist(),\n",
    "                using=\"dense-vector\",\n",
    "                limit=(10 * limit),\n",
    "            ),\n",
    "            models.Prefetch(\n",
    "                query=models.Document(\n",
    "                    text=query,\n",
    "                    model=\"Qdrant/bm25\",\n",
    "                ),\n",
    "                using=\"bm25\",\n",
    "                limit=(5 * limit),\n",
    "            ),\n",
    "        ],\n",
    "        query=models.FusionQuery(fusion=models.Fusion.RRF),\n",
    "        with_payload=True,\n",
    "    )\n",
    "    return results.points\n"
   ]
  },
  {
   "cell_type": "code",
   "execution_count": 21,
   "id": "337fc3be",
   "metadata": {
    "scrolled": true
   },
   "outputs": [
    {
     "name": "stdout",
     "output_type": "stream",
     "text": [
      "{\n",
      "  \"answer\": \"Achondroplasia is a disorder of bone growth that prevents the changing of cartilage (particularly in the long bones of the arms and legs) to bone. It is characterized by dwarfism, limited range of motion at the elbows, large head size, small fingers, and normal intelligence. Achondroplasia can cause health complications such as apnea, obesity, recurrent ear infections, and lordosis of the spine. Achondroplasia is caused by mutations in the FGFR3 gene. It is inherited in an autosomal dominant fashion.\",\n",
      "  \"question\": \"What is (are) Achondroplasia?\",\n",
      "  \"qtype\": \"information\",\n",
      "  \"id\": \"aed895b1\"\n",
      "}\n"
     ]
    }
   ],
   "source": [
    "print(json.dumps(docs_record, indent=2))"
   ]
  },
  {
   "cell_type": "code",
   "execution_count": 22,
   "id": "b1efe8b8",
   "metadata": {},
   "outputs": [
    {
     "name": "stdout",
     "output_type": "stream",
     "text": [
      "Achondroplasia is a disorder of bone growth that prevents the changing of cartilage (particularly in the long bones of the arms and legs) to bone. It is characterized by dwarfism, limited range of motion at the elbows, large head size, small fingers, and normal intelligence. Achondroplasia can cause health complications such as apnea, obesity, recurrent ear infections, and lordosis of the spine. Achondroplasia is caused by mutations in the FGFR3 gene. It is inherited in an autosomal dominant fashion.\n"
     ]
    }
   ],
   "source": [
    "results = rrf_search(docs_record[\"question\"])\n",
    "print(results[0].payload[\"answer\"])"
   ]
  },
  {
   "cell_type": "markdown",
   "id": "b8238fdf",
   "metadata": {},
   "source": [
    "#### 2. Reranking"
   ]
  },
  {
   "cell_type": "code",
   "execution_count": 23,
   "id": "7781ec41",
   "metadata": {},
   "outputs": [
    {
     "name": "stdout",
     "output_type": "stream",
     "text": [
      "Reranker model loaded successfully.\n"
     ]
    }
   ],
   "source": [
    "# Load the reranker model\n",
    "from sentence_transformers import CrossEncoder\n",
    "\n",
    "reranker = CrossEncoder('cross-encoder/ms-marco-MiniLM-L-6-v2')\n",
    "print(\"Reranker model loaded successfully.\")\n"
   ]
  },
  {
   "cell_type": "code",
   "execution_count": 24,
   "id": "3fa45c3f",
   "metadata": {},
   "outputs": [],
   "source": [
    "def rerank_results(query: str, results, top_k: int = 5):\n",
    "    \"\"\"\n",
    "    Rerank results from hybrid search using cross-encoder.\n",
    "    Args:\n",
    "        query: str\n",
    "        results: list of models.ScoredPoint (from rrf_search)\n",
    "        top_k: int\n",
    "    Returns:\n",
    "        List of tuples: (payload_dict, rerank_score)\n",
    "    \"\"\"\n",
    "    # Extract candidate payloads\n",
    "    candidates = [res.payload for res in results]\n",
    "    pairs = [[query, c[\"answer\"]] for c in candidates]\n",
    "\n",
    "    # Compute relevance scores from reranker\n",
    "    scores = reranker.predict(pairs)\n",
    "\n",
    "    # Combine payloads with scores\n",
    "    reranked = list(zip(candidates, scores))\n",
    "\n",
    "    # Sort by rerank score in descending order\n",
    "    reranked = sorted(reranked, key=lambda x: x[1], reverse=True)\n",
    "\n",
    "    return reranked[:top_k]\n"
   ]
  },
  {
   "cell_type": "code",
   "execution_count": 25,
   "id": "90256d68",
   "metadata": {},
   "outputs": [
    {
     "data": {
      "text/plain": [
       "{'answer': 'Achondroplasia is a disorder of bone growth that prevents the changing of cartilage (particularly in the long bones of the arms and legs) to bone. It is characterized by dwarfism, limited range of motion at the elbows, large head size, small fingers, and normal intelligence. Achondroplasia can cause health complications such as apnea, obesity, recurrent ear infections, and lordosis of the spine. Achondroplasia is caused by mutations in the FGFR3 gene. It is inherited in an autosomal dominant fashion.',\n",
       " 'question': 'What is (are) Achondroplasia?',\n",
       " 'qtype': 'information',\n",
       " 'id': 'aed895b1'}"
      ]
     },
     "execution_count": 25,
     "metadata": {},
     "output_type": "execute_result"
    }
   ],
   "source": [
    "docs_record"
   ]
  },
  {
   "cell_type": "code",
   "execution_count": 26,
   "id": "0dcd3e95",
   "metadata": {},
   "outputs": [
    {
     "name": "stdout",
     "output_type": "stream",
     "text": [
      "Query: What is (are) Achondroplasia?\n",
      "\n",
      "Top 1 — Rerank Score: 8.9235\n",
      "Achondroplasia is a disorder of bone growth that prevents the changing of cartilage (particularly in the long bones of the arms and legs) to bone. It is characterized by dwarfism, limited range of motion at the elbows, large head size, small fingers, and normal intelligence. Achondroplasia can cause...\n",
      "id: aed895b1\n",
      "\n",
      "Top 2 — Rerank Score: 7.5208\n",
      "Achondroplasia is the most common type of short-limbed dwarfism. The condition occurs in 1 in 15,000 to 40,000 newborns....\n",
      "id: 182ff118\n",
      "\n",
      "Top 3 — Rerank Score: 6.8525\n",
      "Achondroplasia is a form of short-limbed dwarfism. The word achondroplasia literally means \"without cartilage formation.\" Cartilage is a tough but flexible tissue that makes up much of the skeleton during early development. However, in achondroplasia the problem is not in forming cartilage but in co...\n",
      "id: 0d911b0e\n",
      "\n"
     ]
    }
   ],
   "source": [
    "# RUN Hybrid + ReRanking\n",
    "\n",
    "query = docs_record[\"question\"]\n",
    "\n",
    "# Step 1: Hybrid search\n",
    "hybrid_results = rrf_search(query)\n",
    "\n",
    "# Step 2: Rerank top 3 retrieved documents\n",
    "reranked = rerank_results(query, hybrid_results, top_k=3)\n",
    "\n",
    "\n",
    "print(f\"Query: {query}\\n\")\n",
    "for i, (payload, score) in enumerate(reranked, 1):\n",
    "    print(f\"Top {i} — Rerank Score: {score:.4f}\\n{payload['answer'][:300]}...\\nid: {payload['id']}\\n\")\n"
   ]
  },
  {
   "cell_type": "code",
   "execution_count": 27,
   "id": "879a3624",
   "metadata": {},
   "outputs": [
    {
     "name": "stdout",
     "output_type": "stream",
     "text": [
      "Cosine similarities of reranked results:\n",
      "Doc 1: 0.7260\n",
      "Doc 2: 0.5901\n",
      "Doc 3: 0.6373\n"
     ]
    }
   ],
   "source": [
    "# - Evaluate reranking\n",
    "from sklearn.metrics.pairwise import cosine_similarity\n",
    "import numpy as np\n",
    "\n",
    "\n",
    "# Embed query and reranked result\n",
    "query_emb = embed_model.encode([query])\n",
    "reranked_embs = embed_model.encode([answer for answer, _ in reranked])\n",
    "similarities = cosine_similarity(query_emb, reranked_embs)[0]\n",
    "\n",
    "print(\"Cosine similarities of reranked results:\")\n",
    "for i, sim in enumerate(similarities, 1):\n",
    "    print(f\"Doc {i}: {sim:.4f}\")\n"
   ]
  },
  {
   "cell_type": "markdown",
   "id": "bf0b19cd",
   "metadata": {},
   "source": [
    "## Evaluate Hybrid Search and Reranking"
   ]
  },
  {
   "cell_type": "code",
   "execution_count": 28,
   "id": "adac431f",
   "metadata": {},
   "outputs": [],
   "source": [
    "df_ground_truth = pd.read_csv('./../dataset/search_ground-truth-data.csv')"
   ]
  },
  {
   "cell_type": "code",
   "execution_count": 29,
   "id": "82070ab4",
   "metadata": {},
   "outputs": [],
   "source": [
    "ground_truth_dict = df_ground_truth.to_dict(orient='records')"
   ]
  },
  {
   "cell_type": "code",
   "execution_count": 30,
   "id": "640f08bf",
   "metadata": {},
   "outputs": [],
   "source": [
    "def hit_rate(relevance_total):\n",
    "    cnt = 0\n",
    "\n",
    "    for line in relevance_total:\n",
    "        if True in line:\n",
    "            cnt = cnt + 1\n",
    "\n",
    "    return cnt / len(relevance_total)"
   ]
  },
  {
   "cell_type": "code",
   "execution_count": 31,
   "id": "af729fbd",
   "metadata": {},
   "outputs": [],
   "source": [
    "def mrr(relevance_total):\n",
    "    total_score = 0.0\n",
    "\n",
    "    for line in relevance_total:\n",
    "        for rank in range(len(line)):\n",
    "            if line[rank] == True:\n",
    "                total_score = total_score + 1 / (rank + 1)\n",
    "\n",
    "    return total_score / len(relevance_total)"
   ]
  },
  {
   "cell_type": "code",
   "execution_count": 32,
   "id": "92f1c90e",
   "metadata": {},
   "outputs": [],
   "source": [
    "def evaluate_search(ground_truth, search_function):\n",
    "    relevance_total = []\n",
    "\n",
    "    for q in tqdm(ground_truth):\n",
    "        doc_id = q['document']\n",
    "        results = search_function(q)\n",
    "        payloads = [p.payload for p in results]\n",
    "        relevance = [d['id'] == doc_id for d in payloads]\n",
    "        relevance_total.append(relevance)\n",
    "\n",
    "    return {\n",
    "        'hit_rate': hit_rate(relevance_total),\n",
    "        'mrr': mrr(relevance_total),\n",
    "    }"
   ]
  },
  {
   "cell_type": "code",
   "execution_count": 33,
   "id": "54499ffc",
   "metadata": {},
   "outputs": [],
   "source": [
    "def evaluate_rerank(ground_truth, hybrid_search_fn, rerank_fn, top_k=1):\n",
    "    relevance_total = []\n",
    "\n",
    "    for q in tqdm(ground_truth):\n",
    "        query = q[\"question\"]\n",
    "        doc_id = q[\"document\"]\n",
    "\n",
    "        # Step 1: Run hybrid search (RRF)\n",
    "        hybrid_results = hybrid_search_fn(query)\n",
    "\n",
    "        # Step 2: Rerank results\n",
    "        reranked = rerank_fn(query, hybrid_results, top_k=top_k)\n",
    "\n",
    "        # Step 3: Extract payloads only (ignore score)\n",
    "        payloads = [payload for payload, score in reranked]\n",
    "\n",
    "        # Step 4: Check relevance: True if ground-truth doc matches\n",
    "        relevance = [p[\"id\"] == doc_id for p in payloads]\n",
    "        relevance_total.append(relevance)\n",
    "\n",
    "    return {\n",
    "        \"hit_rate\": hit_rate(relevance_total),\n",
    "        \"mrr\": mrr(relevance_total),\n",
    "    }\n"
   ]
  },
  {
   "cell_type": "code",
   "execution_count": 38,
   "id": "17cd153b",
   "metadata": {},
   "outputs": [
    {
     "name": "stderr",
     "output_type": "stream",
     "text": [
      "100%|█████████████████████████████████████████| 200/200 [00:11<00:00, 17.57it/s]\n"
     ]
    },
    {
     "data": {
      "text/plain": [
       "{'hit_rate': 0.73, 'mrr': 0.5594999999999999}"
      ]
     },
     "execution_count": 38,
     "metadata": {},
     "output_type": "execute_result"
    }
   ],
   "source": [
    "# Qdrant multi-stage Evaluation\n",
    "evaluate_search(ground_truth_dict, lambda q: multi_stage_search(q['question'], limit=5))"
   ]
  },
  {
   "cell_type": "code",
   "execution_count": 36,
   "id": "3509d690",
   "metadata": {},
   "outputs": [
    {
     "name": "stderr",
     "output_type": "stream",
     "text": [
      "100%|█████████████████████████████████████████| 200/200 [00:14<00:00, 14.00it/s]\n"
     ]
    },
    {
     "data": {
      "text/plain": [
       "{'hit_rate': 0.885, 'mrr': 0.6524047619047616}"
      ]
     },
     "execution_count": 36,
     "metadata": {},
     "output_type": "execute_result"
    }
   ],
   "source": [
    "# Qdrant HybridSearch Evaluation\n",
    "evaluate_search(ground_truth_dict, lambda q: rrf_search(q['question'], limit=5))"
   ]
  },
  {
   "cell_type": "code",
   "execution_count": 37,
   "id": "20aa34bb",
   "metadata": {},
   "outputs": [
    {
     "name": "stderr",
     "output_type": "stream",
     "text": [
      "100%|█████████████████████████████████████████| 200/200 [38:31<00:00, 11.56s/it]\n"
     ]
    },
    {
     "data": {
      "text/plain": [
       "{'hit_rate': 0.755, 'mrr': 0.6483333333333334}"
      ]
     },
     "execution_count": 37,
     "metadata": {},
     "output_type": "execute_result"
    }
   ],
   "source": [
    "evaluate_rerank(\n",
    "    ground_truth=ground_truth_dict,\n",
    "    hybrid_search_fn=lambda q: rrf_search(q, limit=10),\n",
    "    rerank_fn=rerank_results,\n",
    "    top_k=3\n",
    ")"
   ]
  },
  {
   "cell_type": "code",
   "execution_count": 58,
   "id": "72a50594",
   "metadata": {},
   "outputs": [
    {
     "name": "stderr",
     "output_type": "stream",
     "text": [
      "100%|█████████████████████████████████████████| 200/200 [31:04<00:00,  9.32s/it]\n"
     ]
    },
    {
     "data": {
      "text/plain": [
       "{'hit_rate': 0.83, 'mrr': 0.6660833333333334}"
      ]
     },
     "execution_count": 58,
     "metadata": {},
     "output_type": "execute_result"
    }
   ],
   "source": [
    "evaluate_rerank(\n",
    "    ground_truth=ground_truth_dict,\n",
    "    hybrid_search_fn=lambda q: rrf_search(q, limit=10),\n",
    "    rerank_fn=rerank_results,\n",
    "    top_k=5\n",
    ")"
   ]
  }
 ],
 "metadata": {
  "kernelspec": {
   "display_name": "llm",
   "language": "python",
   "name": "llm"
  },
  "language_info": {
   "codemirror_mode": {
    "name": "ipython",
    "version": 3
   },
   "file_extension": ".py",
   "mimetype": "text/x-python",
   "name": "python",
   "nbconvert_exporter": "python",
   "pygments_lexer": "ipython3",
   "version": "3.10.13"
  }
 },
 "nbformat": 4,
 "nbformat_minor": 5
}
