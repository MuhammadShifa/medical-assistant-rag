{
 "cells": [
  {
   "cell_type": "code",
   "execution_count": null,
   "id": "74107c3b",
   "metadata": {},
   "outputs": [],
   "source": [
    "!pip install minsearch"
   ]
  },
  {
   "cell_type": "code",
   "execution_count": 1,
   "id": "8142c5aa",
   "metadata": {},
   "outputs": [],
   "source": [
    "import minsearch\n",
    "import json\n",
    "from tqdm import tqdm"
   ]
  },
  {
   "cell_type": "markdown",
   "id": "e66b2bb9",
   "metadata": {},
   "source": [
    "## Data Ingestion"
   ]
  },
  {
   "cell_type": "code",
   "execution_count": 2,
   "id": "aa517820",
   "metadata": {},
   "outputs": [],
   "source": [
    "# Load dataset documents with id from JSON\n",
    "with open(\"./../dataset/medical_qa_documents_with_id.json\", \"r\") as f:\n",
    "    docs_raw = json.load(f)"
   ]
  },
  {
   "cell_type": "code",
   "execution_count": 3,
   "id": "237b3d9a",
   "metadata": {},
   "outputs": [
    {
     "name": "stdout",
     "output_type": "stream",
     "text": [
      "Total documents loaded: 14443\n",
      "Keys in document: dict_keys(['document_info', 'documents'])\n"
     ]
    }
   ],
   "source": [
    "documents = docs_raw[0][\"documents\"]  # get the list of Q&A documents\n",
    "\n",
    "print(\"Total documents loaded:\", len(documents))\n",
    "print(\"Keys in document:\", docs_raw[0].keys())\n"
   ]
  },
  {
   "cell_type": "code",
   "execution_count": 4,
   "id": "079e113a",
   "metadata": {},
   "outputs": [],
   "source": [
    "documents = []\n",
    "\n",
    "for docs_info in docs_raw:\n",
    "    for doc in docs_info['documents']:\n",
    "        documents.append(doc)"
   ]
  },
  {
   "cell_type": "code",
   "execution_count": 5,
   "id": "e21ea346",
   "metadata": {},
   "outputs": [],
   "source": [
    "index = minsearch.Index(\n",
    "    text_fields=[\"question\", \"answer\"],\n",
    "    keyword_fields=[\"qtype\"]\n",
    ")"
   ]
  },
  {
   "cell_type": "code",
   "execution_count": 6,
   "id": "0ada59af",
   "metadata": {},
   "outputs": [
    {
     "data": {
      "text/plain": [
       "<minsearch.minsearch.Index at 0x71a3eeb73460>"
      ]
     },
     "execution_count": 6,
     "metadata": {},
     "output_type": "execute_result"
    }
   ],
   "source": [
    "index.fit(documents)"
   ]
  },
  {
   "cell_type": "code",
   "execution_count": 7,
   "id": "7a7c6832",
   "metadata": {},
   "outputs": [],
   "source": [
    "q = \"what is malaria?\""
   ]
  },
  {
   "cell_type": "code",
   "execution_count": 8,
   "id": "a3350da3",
   "metadata": {},
   "outputs": [],
   "source": [
    "boost = {'question': 3.0}\n",
    "\n",
    "results = index.search(\n",
    "        query=q,\n",
    "        filter_dict={'qtype': 'information'},\n",
    "        boost_dict=boost,\n",
    "        num_results=5\n",
    "    )"
   ]
  },
  {
   "cell_type": "code",
   "execution_count": 9,
   "id": "a39a2d51",
   "metadata": {
    "scrolled": true
   },
   "outputs": [
    {
     "data": {
      "text/plain": [
       "[{'question': 'What is (are) Malaria?',\n",
       "  'answer': 'Malaria is a serious disease caused by a parasite. You get it when an infected mosquito bites you. Malaria is a major cause of death worldwide, but it is almost wiped out in the United States. The disease is mostly a problem in developing countries with warm climates. If you travel to these countries, you are at risk. There are four different types of malaria caused by four related parasites. The most deadly type occurs in Africa south of the Sahara Desert. Malaria symptoms include chills, flu-like symptoms, fever, vomiting, diarrhea, and jaundice. A blood test can diagnose it. It can be life-threatening. However, you can treat malaria with drugs. The type of drug depends on which kind of malaria you have and where you were infected. Malaria can be prevented. When traveling to areas where malaria is found - See your doctor for medicines that protect you - Wear insect repellent with DEET - Cover up - Sleep under mosquito netting Centers for Disease Control and Prevention',\n",
       "  'qtype': 'information',\n",
       "  'id': 'd9c18a3f'},\n",
       " {'question': 'What is (are)?',\n",
       "  'answer': \"On this Page General Information about VISA/VRSA What is Staphylococcus aureus? How do VISA and VRSA get their names? What should a patient do if they suspect they have a Staph, MRSA, VISA, or VRSA infection? Are VISA and VRSA infections treatable? How can the spread of VISA and VRSA be prevented? What should a person do if a family member or close friend has VISA or VRSA? What is CDC doing to address VISA and VRSA? Recommendations and Guidelines General Information about VISA/VRSA For more images of this bacterium, search the Public Health Image Library Vancomycin [van−kō−mī−sin]-intermediate Staphylococcus aureus [staff−u−lu−kaw−kus aw−ree−us] (also called VISA) and Vancomycin-resistant Staphylococcus aureus (also called VRSA) are specific types of antimicrobial-resistant bacteria. However, as of October 2010, all VISA and VRSA isolates have been susceptible to other Food and Drug Administration (FDA)-approved drugs. Persons who develop this type of staph infection may have underlying health conditions (such as diabetes and kidney disease), tubes going into their bodies (such as catheters), previous infections with methicillin-resistant Staphylococcus aureus (MRSA), and recent exposure to vancomycin and other antimicrobial agents. What is Staphylococcus aureus? Staphylococcus aureus is a bacterium commonly found on the skin and in the nose of about 30% of individuals. Most of the time, staph does not cause any harm. These infections can look like pimples, boils, or other skin conditions and most are able to be treated. Sometimes staph bacteria can get into the bloodstream and cause serious infections which can be fatal, including: Bacteremia or sepsis when bacteria spread to the bloodstream usually as a result of using catheters or having surgery. Pneumonia which predominantly affects people with underlying lung disease including those on mechanical ventilators. Endocarditis (infection of the heart valves) which can lead to heart failure. Osteomyelitis (bone infection) which can be caused by staph bacteria traveling in the bloodstream or put there by direct contact such as following trauma (puncture wound of foot or intravenous (IV) drug abuse). Top of page How do VISA and VRSA get their names? Staph bacteria are classified as VISA or VRSA based on laboratory tests. Laboratories perform tests to determine if staph bacteria are resistant to antimicrobial agents that might be used for treatment of infections. For vancomycin and other antimicrobial agents, laboratories determine how much of the agent it requires to inhibit the growth of the organism in a test tube. The result of the test is usually expressed as a minimum inhibitory concentration (MIC) or the minimum amount of antimicrobial agent that inhibits bacterial growth in the test tube. Therefore, staph bacteria are classified as VISA if the MIC for vancomycin is 4-8µg/ml, and classified as VRSA if the vancomycin MIC is ≥16µg/ml. Top of page What should a patient do if they suspect they have a staph, MRSA, VISA, or VRSA infection? See a healthcare provider. Top of page Are VISA and VRSA infections treatable? Yes. As of October 2010, all VISA and VRSA isolates have been susceptible to several Food and Drug Administration (FDA)-approved drugs. Top of page How can the spread of VISA and VRSA be prevented? Use of appropriate infection control practices (such as wearing gloves before and after contact with infectious body substances and adherence to hand hygiene) by healthcare personnel can reduce the spread of VISA and VRSA. Top of page What should a person do if a family member or close friend has VISA or VRSA? VISA and VRSA are types of antibiotic-resistant staph bacteria. Therefore, as with all staph bacteria, spread occurs among people having close physical contact with infected patients or contaminated material, such as bandages. Persons having close physical contact with infected patients while they are outside of the healthcare setting should: (1) keep their hands clean by washing thoroughly with soap and water, and (2) avoid contact with other people's wounds or material contaminated from wounds. If they go to the hospital to visit a friend or family member who is infected with VISA or VRSA , they must follow the hospital's recommended precautions. Top of page What is CDC doing to address VISA and VRSA? In addition to providing guidance for clinicians and infection control personnel, CDC is also working with state and local health agencies, healthcare facilities, and clinical microbiology laboratories to ensure that laboratories are using proper methods to detect VISA and VRSA. Top of page Recommendations and Guidelines CDC issued a Clinical Reminder, in 2010, which serves as a reminder about the important role of clinical laboratories in the diagnosis of VRSA cases to ensure prompt recognition, isolation, and management by infection control personnel. Investigation and Control of Vancomycin-Resistant Staphylococcus aureus (VRSA) [PDF - 300 KB] - This document is a guide to conducting a public health investigation of patients from whom vancomycin-resistant Staphylococcus aureus (VRSA, vancomycin MIC ≥ 16 µg/ml) has been isolated. The information reflects the experience gained from field investigations of the first fourteen VRSA identified in the United States. Top of page\",\n",
       "  'qtype': 'information',\n",
       "  'id': '025cda8f'},\n",
       " {'question': 'What is (are) C syndrome?',\n",
       "  'answer': 'C syndrome, also known as Opitz trigonocephaly syndrome, is characterized by trigonocephaly, severe intellectual disability, hypotonia, variable cardiac defects, redundant (extra folds of) skin, joint and limb abnormalities, and unusual facial features such as upslanted palpebral fissures (upward pointing outside corners of the eyes), epicanthal folds, depressed nasal bridge, and low-set, posteriorly rotated ears. This condition is genetically heterogeneous, meaning that there is evidence of more than one type of inheritance. While many cases are sporadic, autosomal recessive, autosomal dominant, and germline mosaicism have all been suggested. At least some cases of C syndrome have been caused by dysfunction of the CD96 gene.',\n",
       "  'qtype': 'information',\n",
       "  'id': '91f42fe1'},\n",
       " {'question': 'What is (are) 3-M syndrome?',\n",
       "  'answer': '3-M syndrome is a disorder that causes short stature (dwarfism), unusual facial features, and skeletal abnormalities. The name of this condition comes from the initials of three researchers who first identified it: Miller, McKusick, and Malvaux. Individuals with 3-M syndrome grow extremely slowly before birth, and this slow growth continues throughout childhood and adolescence. They have low birth weight and length and remain much smaller than others in their family, growing to an adult height of approximately 120 centimeters to 130 centimeters (4 feet to 4 feet 6 inches). Affected individuals have a normally sized head that looks disproportionately large in comparison with their body. The head may be unusually long and narrow in shape (dolichocephalic). In addition to short stature, people with 3-M syndrome have a triangle-shaped face with a broad, prominent forehead (frontal bossing) and a pointed chin; the middle of the face is less prominent (hypoplastic midface). They may have large ears, full eyebrows, an upturned nose with a fleshy tip, a long area between the nose and mouth (philtrum), a prominent mouth, and full lips. Affected individuals may have a short, broad neck and chest with prominent shoulder blades and square shoulders. They may have abnormal spinal curvature such as a rounded upper back that also curves to the side (kyphoscoliosis) or exaggerated curvature of the lower back (hyperlordosis). People with 3-M syndrome may also have unusual curving of the fingers (clinodactyly), short fifth (pinky) fingers, prominent heels, and loose joints. Other skeletal abnormalities, such as unusually slender long bones in the arms and legs, tall, narrow spinal bones (vertebrae), or slightly delayed bone age may be apparent in x-ray images. 3-M syndrome can also affect other body systems. Males with 3-M syndrome may produce reduced amounts of sex hormones (hypogonadism) and occasionally have the urethra opening on the underside of the penis (hypospadias). People with this condition may be at increased risk of developing bulges in blood vessel walls (aneurysms) in the brain. Intelligence is unaffected by 3-M syndrome, and life expectancy is generally normal. A variant of 3-M syndrome called Yakut short stature syndrome has been identified in an isolated population in Siberia. In addition to having most of the physical features characteristic of 3-M syndrome, people with this form of the disorder are often born with respiratory problems that can be life-threatening in infancy.',\n",
       "  'qtype': 'information',\n",
       "  'id': '121ba2f8'},\n",
       " {'question': 'What is (are) Cancer?',\n",
       "  'answer': \"Cancer begins in your cells, which are the building blocks of your body. Normally, your body forms new cells as you need them, replacing old cells that die. Sometimes this process goes wrong. New cells grow even when you don't need them, and old cells don't die when they should. These extra cells can form a mass called a tumor. Tumors can be benign or malignant. Benign tumors aren't cancer while malignant ones are. Cells from malignant tumors can invade nearby tissues. They can also break away and spread to other parts of the body. Cancer is not just one disease but many diseases. There are more than 100 different types of cancer. Most cancers are named for where they start. For example, lung cancer starts in the lung, and breast cancer starts in the breast. The spread of cancer from one part of the body to another is called metastasis. Symptoms and treatment depend on the cancer type and how advanced it is. Most treatment plans may include surgery, radiation and/or chemotherapy. Some may involve hormone therapy, biologic therapy, or stem cell transplantation. NIH: National Cancer Institute\",\n",
       "  'qtype': 'information',\n",
       "  'id': '23570a55'}]"
      ]
     },
     "execution_count": 9,
     "metadata": {},
     "output_type": "execute_result"
    }
   ],
   "source": [
    "results"
   ]
  },
  {
   "cell_type": "code",
   "execution_count": 10,
   "id": "d922bfb9",
   "metadata": {},
   "outputs": [],
   "source": [
    "import os\n",
    "os.environ[\"GROQ_API_KEY\"] = \"gsk_xxxxxxxxxxxxxxxxxxxxxxxxxxxxxxxx\""
   ]
  },
  {
   "cell_type": "code",
   "execution_count": 11,
   "id": "c45f1621",
   "metadata": {},
   "outputs": [],
   "source": [
    "from groq import Groq\n",
    "\n",
    "client = Groq()"
   ]
  },
  {
   "cell_type": "markdown",
   "id": "a16b5d9d",
   "metadata": {},
   "source": [
    "### testing Groq API"
   ]
  },
  {
   "cell_type": "code",
   "execution_count": 12,
   "id": "5d74db32",
   "metadata": {},
   "outputs": [],
   "source": [
    "response = client.chat.completions.create(\n",
    "    model=\"openai/gpt-oss-20b\",\n",
    "    messages=[\n",
    "      {\n",
    "        \"role\": \"user\",\n",
    "        \"content\": q\n",
    "      }\n",
    "    ]\n",
    ")"
   ]
  },
  {
   "cell_type": "code",
   "execution_count": 13,
   "id": "7ab90b60",
   "metadata": {
    "scrolled": true
   },
   "outputs": [
    {
     "data": {
      "text/plain": [
       "'**Malaria** is an infectious disease caused by a tiny parasite called *Plasmodium* that is transmitted to humans through the bite of infected female *Anopheles* mosquitoes.  \\n\\n| What it is | How it spreads | What you feel | Where it’s common | How to stay safe |\\n|------------|----------------|---------------|--------------------|------------------|\\n| **Parasite** – 5 species infect humans; *P. falciparum* is the most dangerous. | **Mosquito bite** – a mosquito that has fed on an infected person (or animal) carries the parasite into a new host. | **Fever, chills, headache, sweats, muscle aches**. If untreated it can cause anemia, organ failure, seizures, and death. | Tropical and subtropical regions (sub-Saharan Africa, South Asia, parts of Central & South America, and Southeast Asia). | • Long‑lasting insecticide‑treated bed nets. <br>• Indoor residual spraying of insecticide. <br>• Avoid outdoor activity during peak mosquito hours (dusk/dawn). <br>• Use insect repellants and wear long sleeves/pants. <br>• For travelers: take chemoprophylaxis (e.g., atovaquone‑proguanil, doxycycline, mefloquine) per local guidelines. |\\n\\n### How it works\\n1. **Mosquito bites** → parasite enters the bloodstream.  \\n2. Parasite goes to the liver, multiplies, then re‑enters the blood.  \\n3. The cycle repeats, producing the classic “fever‑chills‑sweat” pattern.\\n\\n### Diagnosis\\n- **Microscopy** of a blood smear.  \\n- **Rapid diagnostic tests (RDTs)** that detect parasite proteins.\\n\\n### Treatment\\n- First‑line therapy in most places: **artemisinin‑based combination therapy (ACT)**, e.g., artemether‑lumefantrine or artesunate + mefloquine.  \\n- For *P. falciparum* in Africa: ACT is essential because of drug resistance.  \\n- For *P. vivax* or *P. ovale*: a course of **primaquine** (or tafenoquine) is needed to kill dormant liver stages (“hypnozoites”) and prevent relapse.\\n\\n### Why it matters\\n- About **600–800 million** infections and ~600,000–800,000 deaths per year (mainly children under 5 in Africa).  \\n- Preventable and curable if detected early.\\n\\n---\\n\\n**Bottom line:** Malaria is a mosquito‑borne parasite that causes fever and can be fatal if untreated. Prevention hinges on mosquito control and personal protection, and treatment relies on antimalarial drugs—most importantly artemisinin‑based combinations. If you suspect malaria, seek medical care immediately.'"
      ]
     },
     "execution_count": 13,
     "metadata": {},
     "output_type": "execute_result"
    }
   ],
   "source": [
    "response.choices[0].message.content"
   ]
  },
  {
   "cell_type": "markdown",
   "id": "9ee6b26d",
   "metadata": {},
   "source": [
    "## RAG Flow with minsearch"
   ]
  },
  {
   "cell_type": "code",
   "execution_count": 14,
   "id": "a1caa159",
   "metadata": {},
   "outputs": [],
   "source": [
    "def search(query):\n",
    "    boost = {'question': 3.0}\n",
    "\n",
    "    results = index.search(\n",
    "        query=query,\n",
    "        filter_dict={'qtype': 'information'},\n",
    "        boost_dict=boost,\n",
    "        num_results=5\n",
    "    )\n",
    "\n",
    "    return results"
   ]
  },
  {
   "cell_type": "code",
   "execution_count": 15,
   "id": "31e13028",
   "metadata": {},
   "outputs": [],
   "source": [
    "def build_prompt(query, search_results):\n",
    "\n",
    "    prompt_template = \"\"\"\n",
    "You are a professional medical assistant.\n",
    "Answer the QUESTION using only the CONTEXT provided from verified medical sources.\n",
    "If the answer is not available in the CONTEXT, say \"I'm not sure based on the available information.\"\n",
    "\n",
    "QUESTION: {question}\n",
    "\n",
    "CONTEXT:\n",
    "{context}\n",
    "\"\"\".strip()\n",
    "    \n",
    "    context = \"\"\n",
    "    \n",
    "    for doc in search_results:\n",
    "        context = context + f\"question: {doc['question']}\\nanswer: {doc['answer']}\\n\\n\"\n",
    "    \n",
    "    prompt = prompt_template.format(question=query, context=context).strip()\n",
    "    return prompt"
   ]
  },
  {
   "cell_type": "code",
   "execution_count": 16,
   "id": "ea4abb50",
   "metadata": {},
   "outputs": [],
   "source": [
    "def llm(prompt):\n",
    "    response = client.chat.completions.create(\n",
    "        model=\"openai/gpt-oss-20b\",\n",
    "        messages=[{\"role\": \"user\", \"content\": prompt}]\n",
    "    )\n",
    "    \n",
    "    return response.choices[0].message.content"
   ]
  },
  {
   "cell_type": "code",
   "execution_count": 17,
   "id": "ef0af8c3",
   "metadata": {},
   "outputs": [],
   "source": [
    "query = \"what is malaria?\"\n",
    "\n",
    "def rag(query):\n",
    "    search_results = search(query)\n",
    "    prompt = build_prompt(query, search_results)\n",
    "    answer = llm(prompt)\n",
    "    return answer"
   ]
  },
  {
   "cell_type": "code",
   "execution_count": 18,
   "id": "7d722fad",
   "metadata": {},
   "outputs": [
    {
     "data": {
      "text/plain": [
       "'Malaria is a serious disease caused by a parasite that is transmitted when an infected mosquito bites you. It is a major cause of death worldwide, especially in developing countries with warm climates, and it is almost wiped out in the United States. Four related parasites cause malaria, with the most deadly type found in Africa south of the Sahara Desert. Symptoms include chills, flu‑like symptoms, fever, vomiting, diarrhea, and jaundice. A blood test can diagnose it, and it can be life‑threatening, but it is treatable with drugs that depend on the type of malaria and the region of infection. Prevention measures include taking prescribed antimalarial medicines before traveling to endemic areas, using insect repellent with DEET, wearing protective clothing, and sleeping under mosquito nets. (Centers for Disease Control and Prevention)'"
      ]
     },
     "execution_count": 18,
     "metadata": {},
     "output_type": "execute_result"
    }
   ],
   "source": [
    "rag(query)"
   ]
  },
  {
   "cell_type": "code",
   "execution_count": null,
   "id": "b31451ad",
   "metadata": {},
   "outputs": [],
   "source": []
  }
 ],
 "metadata": {
  "kernelspec": {
   "display_name": "llm",
   "language": "python",
   "name": "llm"
  },
  "language_info": {
   "codemirror_mode": {
    "name": "ipython",
    "version": 3
   },
   "file_extension": ".py",
   "mimetype": "text/x-python",
   "name": "python",
   "nbconvert_exporter": "python",
   "pygments_lexer": "ipython3",
   "version": "3.10.13"
  }
 },
 "nbformat": 4,
 "nbformat_minor": 5
}
