{
 "cells": [
  {
   "cell_type": "code",
   "execution_count": 1,
   "id": "7ba3282a-6099-44b3-81c6-ba4b73d80e7b",
   "metadata": {},
   "outputs": [],
   "source": [
    "import pandas as pd\n",
    "from tqdm.auto import tqdm\n",
    "import json"
   ]
  },
  {
   "cell_type": "code",
   "execution_count": 2,
   "id": "686a488a-67af-4f21-8538-2180dc085fa2",
   "metadata": {},
   "outputs": [],
   "source": [
    "#Loading the dataset having already id generated for each documents\n",
    "\n",
    "with open(\"./../dataset/medical_qa_documents_with_id.json\", \"r\") as f:\n",
    "    docs_raw = json.load(f)"
   ]
  },
  {
   "cell_type": "code",
   "execution_count": 3,
   "id": "3ea4a8a5",
   "metadata": {},
   "outputs": [
    {
     "name": "stdout",
     "output_type": "stream",
     "text": [
      "Total documents loaded: 14979\n",
      "Keys in document: dict_keys(['document_info', 'documents'])\n"
     ]
    }
   ],
   "source": [
    "documents = docs_raw[0][\"documents\"]  # get the list of Q&A documents\n",
    "\n",
    "print(\"Total documents loaded:\", len(documents))\n",
    "print(\"Keys in document:\", docs_raw[0].keys())"
   ]
  },
  {
   "cell_type": "code",
   "execution_count": 4,
   "id": "5a10130c",
   "metadata": {},
   "outputs": [],
   "source": [
    "documents = []\n",
    "\n",
    "for docs_info in docs_raw:\n",
    "    for doc in docs_info['documents']:\n",
    "        documents.append(doc)"
   ]
  },
  {
   "cell_type": "code",
   "execution_count": 5,
   "id": "e697343e",
   "metadata": {},
   "outputs": [
    {
     "data": {
      "text/plain": [
       "{'answer': 'LCMV infections can occur after exposure to fresh urine, droppings, saliva, or nesting materials from infected rodents. Transmission may also occur when these materials are directly introduced into broken skin, the nose, the eyes, or the mouth, or presumably, via the bite of an infected rodent. Person-to-person transmission has not been reported, with the exception of vertical transmission from infected mother to fetus, and rarely, through organ transplantation.',\n",
       " 'question': 'Who is at risk for Lymphocytic Choriomeningitis (LCM)?',\n",
       " 'qtype': 'susceptibility',\n",
       " 'id': 'f72c0d85'}"
      ]
     },
     "execution_count": 5,
     "metadata": {},
     "output_type": "execute_result"
    }
   ],
   "source": [
    "documents[0]"
   ]
  },
  {
   "cell_type": "markdown",
   "id": "9b815dcb",
   "metadata": {},
   "source": [
    "### Generating questions for answers\n",
    "Generating 4 relevant questions for each answers, the 50 sample of documents is selected randomly.Because of the Groq API free version free trials I am selecing only the 50 documents randomly. The returned question (4 x 50 = 200)will be saved in csv file for further evaluation."
   ]
  },
  {
   "cell_type": "code",
   "execution_count": 6,
   "id": "51b8f259-eed8-4a50-b50c-2186fb154853",
   "metadata": {},
   "outputs": [],
   "source": [
    "import os\n",
    "os.environ[\"GROQ_API_KEY\"] = \"gsk_xxxxxxxxxxxxxxxxxxxxxxxxxxxxxxxx\""
   ]
  },
  {
   "cell_type": "code",
   "execution_count": 7,
   "id": "8748e67b",
   "metadata": {},
   "outputs": [],
   "source": [
    "from groq import Groq\n",
    "\n",
    "client = Groq()"
   ]
  },
  {
   "cell_type": "code",
   "execution_count": 8,
   "id": "da451769",
   "metadata": {},
   "outputs": [],
   "source": [
    "prompt_template = \"\"\"\n",
    "You are a helpful and specialized medical assistant emulating a patients.\n",
    "Your task is to formulate 4 generatic, clear, diverse, and natural questions that a patient might ask based on medical FAQ record.\n",
    "The answer of the question must and should be in medical and the question should be meaningful, complete and not too short.\n",
    "If possible, use as fewer words as possible from the record. \n",
    "\n",
    "\n",
    "The Medical FAQ Record:\n",
    "\n",
    "Answer: {answer}\n",
    "Question: {question}\n",
    "Qtype: {qtype}\n",
    "\n",
    "Output only a valid JSON list (no explanations, no code blocks):\n",
    "\n",
    "[\"question1\", \"question2\", \"question3\", \"question4\"]\n",
    "\"\"\".strip()\n"
   ]
  },
  {
   "cell_type": "code",
   "execution_count": 10,
   "id": "c824eebc",
   "metadata": {},
   "outputs": [],
   "source": [
    "import random\n",
    "# Select 50 random sample for ground truth generation\n",
    "doc_sample = random.sample(documents, 50)"
   ]
  },
  {
   "cell_type": "code",
   "execution_count": 9,
   "id": "534ac1ae-b5e0-43a7-b8ad-103fd56ced54",
   "metadata": {},
   "outputs": [],
   "source": [
    "def generate_questions(doc):\n",
    "    prompt = prompt_template.format(**doc)\n",
    "\n",
    "    response = client.chat.completions.create(\n",
    "        model='openai/gpt-oss-20b',\n",
    "        messages=[{\"role\": \"user\", \"content\": prompt}]\n",
    "    )\n",
    "\n",
    "    json_response = response.choices[0].message.content\n",
    "    return json_response"
   ]
  },
  {
   "cell_type": "code",
   "execution_count": 11,
   "id": "25a48077-18c0-4d31-82ab-00a44d426279",
   "metadata": {},
   "outputs": [],
   "source": [
    "results = {}"
   ]
  },
  {
   "cell_type": "code",
   "execution_count": 53,
   "id": "954206a4",
   "metadata": {},
   "outputs": [
    {
     "data": {
      "application/vnd.jupyter.widget-view+json": {
       "model_id": "1d408fc805764661b81f64ecfe1f4e4e",
       "version_major": 2,
       "version_minor": 0
      },
      "text/plain": [
       "  0%|          | 0/50 [00:00<?, ?it/s]"
      ]
     },
     "metadata": {},
     "output_type": "display_data"
    },
    {
     "name": "stdout",
     "output_type": "stream",
     "text": [
      "Error for doc_id=749a127c: Connection error. (attempt 1/3)\n"
     ]
    }
   ],
   "source": [
    "import time\n",
    "\n",
    "for doc in tqdm(doc_sample):\n",
    "    doc_id = doc['id']\n",
    "    if doc_id in results:\n",
    "        continue\n",
    "\n",
    "    for attempt in range(3):  # retry up to 3 times\n",
    "        try:\n",
    "            questions = generate_questions(doc)\n",
    "            results[doc_id] = questions\n",
    "            break  # success, exit retry loop\n",
    "        except Exception as e:\n",
    "            print(f\"Error for doc_id={doc_id}: {e} (attempt {attempt+1}/3)\")\n",
    "            time.sleep(random.uniform(3, 6))  # small delay before retry\n",
    "    else:\n",
    "        print(f\"Skipped doc_id={doc_id} after 3 failed attempts\")\n"
   ]
  },
  {
   "cell_type": "code",
   "execution_count": 60,
   "id": "2d5cd8f8-ddfd-4802-908b-504722511a04",
   "metadata": {},
   "outputs": [
    {
     "data": {
      "text/plain": [
       "'[\"What symptoms do babies with Bartter syndrome usually show?\", \"How does Bartter syndrome affect growth and development in children?\", \"Can Bartter syndrome cause kidney complications like nephrocalcinosis or bone problems?\", \"Are there any specific eye or hearing issues associated with Bartter syndrome?\"]'"
      ]
     },
     "execution_count": 60,
     "metadata": {},
     "output_type": "execute_result"
    }
   ],
   "source": [
    "results['e3e8adf5']"
   ]
  },
  {
   "cell_type": "code",
   "execution_count": 61,
   "id": "d265559b-de13-45a3-ba4d-b5f84a3c070a",
   "metadata": {},
   "outputs": [],
   "source": [
    "parsed_resulst = {}\n",
    "\n",
    "for doc_id, json_questions in results.items():\n",
    "    parsed_resulst[doc_id] = json.loads(json_questions)"
   ]
  },
  {
   "cell_type": "code",
   "execution_count": 62,
   "id": "6c928923-d3d8-4b8f-b093-887dffc8e6cb",
   "metadata": {},
   "outputs": [],
   "source": [
    "doc_index = {d['id']: d for d in doc_sample}"
   ]
  },
  {
   "cell_type": "code",
   "execution_count": 63,
   "id": "1ad018b8-33d7-4b80-85df-de3a115aa2b7",
   "metadata": {},
   "outputs": [],
   "source": [
    "final_results = []\n",
    "\n",
    "for doc_id, questions in parsed_resulst.items():\n",
    "    qtype = doc_index[doc_id]['qtype']\n",
    "    for q in questions:\n",
    "        final_results.append((q, qtype, doc_id))"
   ]
  },
  {
   "cell_type": "code",
   "execution_count": 64,
   "id": "c5adba2e-d628-47e5-a107-0ddad14fd667",
   "metadata": {},
   "outputs": [],
   "source": [
    "# create dataframe\n",
    "df = pd.DataFrame(final_results, columns=['question', 'qtype', 'document'])"
   ]
  },
  {
   "cell_type": "code",
   "execution_count": 65,
   "id": "9e4d5ba5-c59c-4e0f-9e79-8f4cd86bb5f0",
   "metadata": {},
   "outputs": [],
   "source": [
    "# save dataframe in a csv file\n",
    "df.to_csv('./../dataset/search_ground-truth-data.csv', index=False)"
   ]
  },
  {
   "cell_type": "code",
   "execution_count": 66,
   "id": "f88e2b0d-53ba-4766-9f5c-aa5d85eff47b",
   "metadata": {},
   "outputs": [
    {
     "name": "stdout",
     "output_type": "stream",
     "text": [
      "question,qtype,document\r\n",
      "When does hair loss typically start in hypotrichosis simplex?,information,eb86628a\r\n",
      "How is hypotrichosis simplex inherited?,information,eb86628a\r\n",
      "Is a particular gene mutation linked to hypotrichosis simplex?,information,eb86628a\r\n",
      "What are the two primary forms of hypotrichosis simplex?,information,eb86628a\r\n",
      "What are the typical symptoms that might indicate I have obesity hypoventilation syndrome?,information,0f4682be\r\n",
      "\"How is obesity hypoventilation syndrome diagnosed, and what tests are involved?\",information,0f4682be\r\n",
      "\"What treatment options are available for obesity hypoventilation syndrome, and how do they help improve breathing?\",information,0f4682be\r\n",
      "\"Can obesity hypoventilation syndrome lead to other health complications, and what steps can I take to prevent them?\",information,0f4682be\r\n",
      "What role does the ITGB2 gene play in leukocyte adhesion deficiency type 1?,genetic changes,96c8e59a\r\n"
     ]
    }
   ],
   "source": [
    "!head ./../dataset/search_ground-truth-data.csv"
   ]
  },
  {
   "cell_type": "code",
   "execution_count": null,
   "id": "46afefd7-2230-4a08-ae31-5600de189d6f",
   "metadata": {},
   "outputs": [],
   "source": []
  }
 ],
 "metadata": {
  "kernelspec": {
   "display_name": "llm",
   "language": "python",
   "name": "llm"
  },
  "language_info": {
   "codemirror_mode": {
    "name": "ipython",
    "version": 3
   },
   "file_extension": ".py",
   "mimetype": "text/x-python",
   "name": "python",
   "nbconvert_exporter": "python",
   "pygments_lexer": "ipython3",
   "version": "3.10.13"
  }
 },
 "nbformat": 4,
 "nbformat_minor": 5
}
