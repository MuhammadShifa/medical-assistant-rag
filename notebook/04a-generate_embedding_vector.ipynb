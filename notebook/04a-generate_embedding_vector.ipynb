{
 "cells": [
  {
   "cell_type": "code",
   "execution_count": 1,
   "id": "0b8c7fcb",
   "metadata": {},
   "outputs": [],
   "source": [
    "import json\n",
    "import pickle\n",
    "import numpy as np\n",
    "from tqdm.auto import tqdm\n",
    "from sentence_transformers import SentenceTransformer"
   ]
  },
  {
   "cell_type": "code",
   "execution_count": 2,
   "id": "e560de9f",
   "metadata": {},
   "outputs": [],
   "source": [
    "with open('./../dataset/medical_qa_documents_with_id.json', 'rt') as f_in:\n",
    "    docs_with_id = json.load(f_in)\n",
    "\n",
    "documents = []\n",
    "\n",
    "for docs_info in docs_with_id:\n",
    "    for doc in docs_info['documents']:\n",
    "        documents.append(doc)"
   ]
  },
  {
   "cell_type": "markdown",
   "id": "a6796325",
   "metadata": {},
   "source": [
    "### loading embedding model"
   ]
  },
  {
   "cell_type": "code",
   "execution_count": 3,
   "id": "524008eb",
   "metadata": {},
   "outputs": [],
   "source": [
    "# embdedding model\n",
    "model_name = 'multi-qa-MiniLM-L6-cos-v1'\n",
    "model = SentenceTransformer(model_name)"
   ]
  },
  {
   "cell_type": "markdown",
   "id": "98ade907",
   "metadata": {},
   "source": [
    "### Generate embedding vectors"
   ]
  },
  {
   "cell_type": "code",
   "execution_count": 4,
   "id": "d2dfd124",
   "metadata": {},
   "outputs": [
    {
     "data": {
      "application/vnd.jupyter.widget-view+json": {
       "model_id": "123aec71e92849bfaa95f4093509b28b",
       "version_major": 2,
       "version_minor": 0
      },
      "text/plain": [
       "  0%|          | 0/14979 [00:00<?, ?it/s]"
      ]
     },
     "metadata": {},
     "output_type": "display_data"
    }
   ],
   "source": [
    "vectors = []\n",
    "\n",
    "for doc in tqdm(documents):\n",
    "    question = doc['question']\n",
    "    answer = doc['answer']\n",
    "    vector = model.encode(question + ' ' + answer)\n",
    "    vectors.append(vector)"
   ]
  },
  {
   "cell_type": "markdown",
   "id": "22a801cd",
   "metadata": {},
   "source": [
    "#### saved embedding as a pickle"
   ]
  },
  {
   "cell_type": "code",
   "execution_count": 7,
   "id": "e12edc2b",
   "metadata": {},
   "outputs": [
    {
     "name": "stdout",
     "output_type": "stream",
     "text": [
      "Saved vectors locally\n"
     ]
    }
   ],
   "source": [
    "# Save\n",
    "with open(\"./../dataset/documents-vectors-multi-qa-MiniLM-L6-cos-v1.pkl\", \"wb\") as f:\n",
    "    pickle.dump(vectors, f)\n",
    "\n",
    "print(\"Saved vectors locally\")\n",
    "\n",
    "# # Load later\n",
    "# with open(\"cos-v1-model-vectors.pkl\", \"rb\") as f:\n",
    "#     vectors = pickle.load(f)"
   ]
  },
  {
   "cell_type": "markdown",
   "id": "6068c31b",
   "metadata": {},
   "source": [
    "#### Saved embedding as a Json File"
   ]
  },
  {
   "cell_type": "code",
   "execution_count": null,
   "id": "03f4dfa3",
   "metadata": {},
   "outputs": [],
   "source": [
    "# Convert numpy arrays to lists\n",
    "vectors_json = [v.tolist() for v in vectors]\n",
    "\n",
    "with open(\"./../dataset/documents-vectors-multi-qa-MiniLM-L6-cos-v1.json\", \"w\") as f:\n",
    "    json.dump(vectors_json, f)\n",
    "\n",
    "print(\"Saved as JSON\")\n",
    "\n",
    "\n",
    "# load later\n",
    "# with open(\"vectors.json\", \"r\") as f:\n",
    "#     vectors = json.load(f)\n",
    "# vectors = [np.array(v) for v in vectors]\n",
    "\n"
   ]
  },
  {
   "cell_type": "code",
   "execution_count": null,
   "id": "dff30a39",
   "metadata": {},
   "outputs": [],
   "source": []
  }
 ],
 "metadata": {
  "kernelspec": {
   "display_name": "llm",
   "language": "python",
   "name": "llm"
  },
  "language_info": {
   "codemirror_mode": {
    "name": "ipython",
    "version": 3
   },
   "file_extension": ".py",
   "mimetype": "text/x-python",
   "name": "python",
   "nbconvert_exporter": "python",
   "pygments_lexer": "ipython3",
   "version": "3.10.13"
  }
 },
 "nbformat": 4,
 "nbformat_minor": 5
}
