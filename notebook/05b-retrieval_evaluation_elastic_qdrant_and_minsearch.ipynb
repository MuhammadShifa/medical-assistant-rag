{
 "cells": [
  {
   "cell_type": "code",
   "execution_count": 1,
   "id": "8456b5b6-185b-440b-ab98-1822aac2fe4f",
   "metadata": {},
   "outputs": [],
   "source": [
    "import json\n",
    "from tqdm.auto import tqdm\n",
    "import pandas as pd"
   ]
  },
  {
   "cell_type": "code",
   "execution_count": 2,
   "id": "3dbbb933",
   "metadata": {},
   "outputs": [],
   "source": [
    "with open('./../dataset/medical_qa_documents_with_id.json', 'rt') as f_in:\n",
    "    docs_raw = json.load(f_in)"
   ]
  },
  {
   "cell_type": "code",
   "execution_count": 3,
   "id": "7df0582f",
   "metadata": {},
   "outputs": [],
   "source": [
    "documents = []\n",
    "for docs_info in docs_raw:\n",
    "    for doc in docs_info['documents']:\n",
    "        documents.append(doc)"
   ]
  },
  {
   "cell_type": "code",
   "execution_count": 4,
   "id": "bbc9c2be",
   "metadata": {},
   "outputs": [],
   "source": [
    "df_ground_truth = pd.read_csv('./../dataset/search_ground-truth-data.csv')"
   ]
  },
  {
   "cell_type": "code",
   "execution_count": 5,
   "id": "ddbe8e78",
   "metadata": {},
   "outputs": [],
   "source": [
    "ground_truth_dict = df_ground_truth.to_dict(orient='records')"
   ]
  },
  {
   "cell_type": "markdown",
   "id": "62327c6c",
   "metadata": {},
   "source": [
    "### Elastic Search Evaluation"
   ]
  },
  {
   "cell_type": "code",
   "execution_count": 5,
   "id": "dcc6a873",
   "metadata": {},
   "outputs": [
    {
     "name": "stdout",
     "output_type": "stream",
     "text": [
      "<bound method Elasticsearch.info of <Elasticsearch(['http://localhost:9200'])>>\n"
     ]
    }
   ],
   "source": [
    "from elasticsearch import Elasticsearch\n",
    "\n",
    "es_client = Elasticsearch(\n",
    "    [\"http://localhost:9200\"],   # must include scheme http://\n",
    "    request_timeout=60           # increase timeout in case ES is slow\n",
    ")\n",
    "print(es_client.info)"
   ]
  },
  {
   "cell_type": "code",
   "execution_count": 6,
   "id": "29e6eb3a",
   "metadata": {},
   "outputs": [],
   "source": [
    "index_settings = {\n",
    "    \"settings\": {\n",
    "        \"number_of_shards\": 1,\n",
    "        \"number_of_replicas\": 0\n",
    "    },\n",
    "    \"mappings\": {\n",
    "        \"properties\": {\n",
    "            \"answer\": {\"type\": \"text\"},\n",
    "            \"question\": {\"type\": \"text\"},\n",
    "            \"qtype\": {\"type\": \"keyword\"},\n",
    "            \"id\": {\"type\": \"keyword\"}\n",
    "\n",
    "        }\n",
    "    }\n",
    "}\n",
    "\n",
    "index_name = \"medical-questions\"\n",
    "\n",
    "es_client.indices.delete(index=index_name, ignore_unavailable=True)\n",
    "es_client.indices.create(index=index_name, body=index_settings)"
   ]
  },
  {
   "cell_type": "code",
   "execution_count": 6,
   "id": "58a9daf0-9b68-48fb-b992-59782b625e33",
   "metadata": {},
   "outputs": [
    {
     "data": {
      "application/vnd.jupyter.widget-view+json": {
       "model_id": "eebada845afe48f2bae3a141c3f60275",
       "version_major": 2,
       "version_minor": 0
      },
      "text/plain": [
       "  0%|          | 0/14979 [00:00<?, ?it/s]"
      ]
     },
     "metadata": {},
     "output_type": "display_data"
    }
   ],
   "source": [
    "for doc in tqdm(documents):\n",
    "    es_client.index(index=index_name, document=doc)"
   ]
  },
  {
   "cell_type": "code",
   "execution_count": 7,
   "id": "5bec5695",
   "metadata": {},
   "outputs": [],
   "source": [
    "def elastic_search(query, qtype):\n",
    "    search_query = {\n",
    "        \"size\": 5,\n",
    "        \"query\": {\n",
    "            \"bool\": {\n",
    "                \"must\": {\n",
    "                    \"multi_match\": {\n",
    "                        \"query\": query,\n",
    "                        \"fields\": [\"question^3\", \"answer\", \"qtype\"],\n",
    "                        \"type\": \"best_fields\"\n",
    "                    }\n",
    "                },\n",
    "                \"filter\": {\n",
    "                    \"term\": {\n",
    "                        \"qtype\": qtype\n",
    "                    }\n",
    "                }\n",
    "            }\n",
    "        }\n",
    "    }\n",
    "\n",
    "    response = es_client.search(index=index_name, body=search_query)\n",
    "    \n",
    "    result_docs = []\n",
    "    \n",
    "    for hit in response['hits']['hits']:\n",
    "        result_docs.append(hit['_source'])\n",
    "    \n",
    "    return result_docs"
   ]
  },
  {
   "cell_type": "code",
   "execution_count": 8,
   "id": "d7ec3171-f2cc-4be5-8de5-4e8131cdeccb",
   "metadata": {
    "scrolled": true
   },
   "outputs": [
    {
     "data": {
      "text/plain": [
       "[{'question': 'What is (are) Malaria?',\n",
       "  'answer': 'Malaria is a serious disease caused by a parasite. You get it when an infected mosquito bites you. Malaria is a major cause of death worldwide, but it is almost wiped out in the United States. The disease is mostly a problem in developing countries with warm climates. If you travel to these countries, you are at risk. There are four different types of malaria caused by four related parasites. The most deadly type occurs in Africa south of the Sahara Desert. Malaria symptoms include chills, flu-like symptoms, fever, vomiting, diarrhea, and jaundice. A blood test can diagnose it. It can be life-threatening. However, you can treat malaria with drugs. The type of drug depends on which kind of malaria you have and where you were infected. Malaria can be prevented. When traveling to areas where malaria is found - See your doctor for medicines that protect you - Wear insect repellent with DEET - Cover up - Sleep under mosquito netting Centers for Disease Control and Prevention',\n",
       "  'qtype': 'information',\n",
       "  'id': 'd9c18a3f'},\n",
       " {'question': 'Do you have information about International Health',\n",
       "  'answer': \"Summary : The spread of a disease doesn't stop at a country's borders. With more people traveling to other countries and living in crowded cities, it's easier for germs to spread. Infectious diseases that start in one part of the world can quickly reach another. Drug resistance is on the rise, making it harder to treat certain diseases. Natural and man-made disasters create refugee populations with immediate and long-term health problems. Some of the major diseases currently affecting countries around the globe include HIV/AIDS, malaria, pandemic/avian flu, and tuberculosis. Many countries and health organizations are working together and sharing information on these and other health issues.\",\n",
       "  'qtype': 'information',\n",
       "  'id': '28887591'},\n",
       " {'question': 'What is (are) Insect Bites and Stings?',\n",
       "  'answer': \"Most insect bites are harmless, though they sometimes cause discomfort. Bee, wasp, and hornet stings and fire ant bites usually hurt. Mosquito and flea bites usually itch. Insects can also spread diseases. In the United States, some mosquitoes spread West Nile virus. Travelers outside the United States may be at risk for malaria and other infections. To prevent insect bites and their complications - Don't bother insects - Use insect repellant - Wear protective clothing - Be careful when you eat outside because food attracts insects - If you know you have severe allergic reactions to insect bites and stings (such as anaphylaxis), carry an emergency epinephrine kit\",\n",
       "  'qtype': 'information',\n",
       "  'id': '86450e5b'},\n",
       " {'question': 'What is (are) Parasitic Diseases?',\n",
       "  'answer': \"Parasites are living things that use other living things - like your body - for food and a place to live. You can get them from contaminated food or water, a bug bite, or sexual contact. Some parasitic diseases are easily treated and some are not. Parasites range in size from tiny, one-celled organisms called protozoa to worms that can be seen with the naked eye. Some parasitic diseases occur in the United States. Contaminated water supplies can lead to Giardia infections. Cats can transmit toxoplasmosis, which is dangerous for pregnant women. Others, like malaria, are common in other parts of the world. If you are traveling, it's important to drink only water you know is safe. Prevention is especially important. There are no vaccines for parasitic diseases. Some medicines are available to treat parasitic infections.\",\n",
       "  'qtype': 'information',\n",
       "  'id': '58ea604b'},\n",
       " {'question': 'What is (are) glucose-6-phosphate dehydrogenase deficiency?',\n",
       "  'answer': 'Glucose-6-phosphate dehydrogenase deficiency is a genetic disorder that occurs most often in males. This condition mainly affects red blood cells, which carry oxygen from the lungs to tissues throughout the body. In affected individuals, a defect in an enzyme called glucose-6-phosphate dehydrogenase causes red blood cells to break down prematurely. This destruction of red blood cells is called hemolysis. The most common medical problem associated with glucose-6-phosphate dehydrogenase deficiency is hemolytic anemia, which occurs when red blood cells are destroyed faster than the body can replace them. This type of anemia leads to paleness, yellowing of the skin and whites of the eyes (jaundice), dark urine, fatigue, shortness of breath, and a rapid heart rate. In people with glucose-6-dehydrogenase deficiency, hemolytic anemia is most often triggered by bacterial or viral infections or by certain drugs (such as some antibiotics and medications used to treat malaria). Hemolytic anemia can also occur after eating fava beans or inhaling pollen from fava plants (a reaction called favism). Glucose-6-dehydrogenase deficiency is also a significant cause of mild to severe jaundice in newborns. Many people with this disorder, however, never experience any signs or symptoms.',\n",
       "  'qtype': 'information',\n",
       "  'id': '153635b7'}]"
      ]
     },
     "execution_count": 8,
     "metadata": {},
     "output_type": "execute_result"
    }
   ],
   "source": [
    "elastic_search(\n",
    "    query = \"what is malaria?\",\n",
    "    qtype=\"information\"\n",
    ")"
   ]
  },
  {
   "cell_type": "code",
   "execution_count": 11,
   "id": "1e08bcee-4c70-44b8-9525-ff89d9b2320b",
   "metadata": {},
   "outputs": [
    {
     "data": {
      "application/vnd.jupyter.widget-view+json": {
       "model_id": "160dd907f8a84553a384b5abe6b5862c",
       "version_major": 2,
       "version_minor": 0
      },
      "text/plain": [
       "  0%|          | 0/200 [00:00<?, ?it/s]"
      ]
     },
     "metadata": {},
     "output_type": "display_data"
    }
   ],
   "source": [
    "relevance_total = []\n",
    "\n",
    "for q in tqdm(ground_truth_dict):\n",
    "    doc_id = q['document']\n",
    "    results = elastic_search(query=q['question'], qtype=q['qtype'])\n",
    "    relevance = [d['id'] == doc_id for d in results]\n",
    "    relevance_total.append(relevance)"
   ]
  },
  {
   "cell_type": "code",
   "execution_count": 6,
   "id": "8959c9ff-5bbe-4729-8fa3-cdc51ed10f5f",
   "metadata": {},
   "outputs": [],
   "source": [
    "def hit_rate(relevance_total):\n",
    "    cnt = 0\n",
    "\n",
    "    for line in relevance_total:\n",
    "        if True in line:\n",
    "            cnt = cnt + 1\n",
    "\n",
    "    return cnt / len(relevance_total)"
   ]
  },
  {
   "cell_type": "code",
   "execution_count": 7,
   "id": "842255b5-18f2-4102-9689-a5835e0a621c",
   "metadata": {},
   "outputs": [],
   "source": [
    "def mrr(relevance_total):\n",
    "    total_score = 0.0\n",
    "\n",
    "    for line in relevance_total:\n",
    "        for rank in range(len(line)):\n",
    "            if line[rank] == True:\n",
    "                total_score = total_score + 1 / (rank + 1)\n",
    "\n",
    "    return total_score / len(relevance_total)"
   ]
  },
  {
   "cell_type": "markdown",
   "id": "46538d7c-4e5c-40c4-be02-836880ff7ca3",
   "metadata": {},
   "source": [
    "- hit-rate (recall)\n",
    "- Mean Reciprocal Rank (mrr)"
   ]
  },
  {
   "cell_type": "code",
   "execution_count": 14,
   "id": "e12883f1-13c1-4fe4-83ac-a4833d1cc97b",
   "metadata": {},
   "outputs": [
    {
     "data": {
      "text/plain": [
       "(0.785, 0.7299166666666665)"
      ]
     },
     "execution_count": 14,
     "metadata": {},
     "output_type": "execute_result"
    }
   ],
   "source": [
    "hit_rate(relevance_total), mrr(relevance_total)"
   ]
  },
  {
   "cell_type": "markdown",
   "id": "281a4d3a",
   "metadata": {},
   "source": [
    "### MinSearch Evaluation"
   ]
  },
  {
   "cell_type": "code",
   "execution_count": 8,
   "id": "d10bb1fd-6139-4450-864e-23f7b8531dee",
   "metadata": {},
   "outputs": [
    {
     "data": {
      "text/plain": [
       "<minsearch.minsearch.Index at 0x70763c25d6f0>"
      ]
     },
     "execution_count": 8,
     "metadata": {},
     "output_type": "execute_result"
    }
   ],
   "source": [
    "import minsearch\n",
    "\n",
    "index = minsearch.Index(\n",
    "    text_fields=[\"question\", \"answer\"],\n",
    "    keyword_fields=[\"qtype\", \"id\"]\n",
    ")\n",
    "\n",
    "index.fit(documents)"
   ]
  },
  {
   "cell_type": "code",
   "execution_count": 9,
   "id": "e3d12e7b-eb97-4d47-b77f-c8cbb0d0ed73",
   "metadata": {},
   "outputs": [],
   "source": [
    "def minsearch_search(query, qtype):\n",
    "    boost = {'question': 3.0}\n",
    "\n",
    "    results = index.search(\n",
    "        query=query,\n",
    "        filter_dict={'qtype': qtype},\n",
    "        boost_dict=boost,\n",
    "        num_results=5\n",
    "    )\n",
    "\n",
    "    return results"
   ]
  },
  {
   "cell_type": "code",
   "execution_count": 10,
   "id": "351255d3-2fa5-400e-954a-72c115e94637",
   "metadata": {},
   "outputs": [
    {
     "data": {
      "application/vnd.jupyter.widget-view+json": {
       "model_id": "5b3c802617b64067903f43de1aaf9fd8",
       "version_major": 2,
       "version_minor": 0
      },
      "text/plain": [
       "  0%|          | 0/200 [00:00<?, ?it/s]"
      ]
     },
     "metadata": {},
     "output_type": "display_data"
    }
   ],
   "source": [
    "relevance_total = []\n",
    "\n",
    "for q in tqdm(ground_truth_dict):\n",
    "    doc_id = q['document']\n",
    "    results = minsearch_search(query=q['question'], qtype=q['qtype'])\n",
    "    relevance = [d['id'] == doc_id for d in results]\n",
    "    relevance_total.append(relevance)"
   ]
  },
  {
   "cell_type": "code",
   "execution_count": 11,
   "id": "b9c2a382-edce-4e6a-8d2e-caabf43f4483",
   "metadata": {},
   "outputs": [
    {
     "data": {
      "text/plain": [
       "(0.82, 0.7745000000000001)"
      ]
     },
     "execution_count": 11,
     "metadata": {},
     "output_type": "execute_result"
    }
   ],
   "source": [
    "hit_rate(relevance_total), mrr(relevance_total)"
   ]
  },
  {
   "cell_type": "markdown",
   "id": "d184b0b1",
   "metadata": {},
   "source": [
    "### Qdrant Vector Search Evaluation"
   ]
  },
  {
   "cell_type": "code",
   "execution_count": 12,
   "id": "cfc2aa41",
   "metadata": {},
   "outputs": [],
   "source": [
    "from qdrant_client import QdrantClient, models"
   ]
  },
  {
   "cell_type": "code",
   "execution_count": 13,
   "id": "89c1da32",
   "metadata": {},
   "outputs": [],
   "source": [
    "qd_client = QdrantClient(\n",
    "    url=\"http://localhost:6333\",\n",
    "    timeout=60  # seconds (1 minutes)\n",
    ")\n",
    "\n",
    "collection_name = \"medical-faq\""
   ]
  },
  {
   "cell_type": "code",
   "execution_count": 20,
   "id": "a941cde7",
   "metadata": {},
   "outputs": [],
   "source": [
    "from sentence_transformers import SentenceTransformer"
   ]
  },
  {
   "cell_type": "code",
   "execution_count": 21,
   "id": "e39bd688",
   "metadata": {},
   "outputs": [],
   "source": [
    "EMBEDDING_MODEL_NAME = \"multi-qa-MiniLM-L6-cos-v1\"\n",
    "model = SentenceTransformer(EMBEDDING_MODEL_NAME)"
   ]
  },
  {
   "cell_type": "code",
   "execution_count": 22,
   "id": "8f2ecc3e",
   "metadata": {},
   "outputs": [],
   "source": [
    "def vector_search(qd_client, query, qtype=None, limit=5):\n",
    "    query_vector = model.encode([query])[0].tolist()\n",
    "\n",
    "    query_filter = None\n",
    "    if qtype:\n",
    "        query_filter = models.Filter(\n",
    "            must=[models.FieldCondition(key=\"qtype\", match=models.MatchValue(value=qtype))]\n",
    "        )\n",
    "\n",
    "    results = qd_client.query_points(\n",
    "        collection_name=collection_name,\n",
    "        query=query_vector,\n",
    "        query_filter=query_filter,\n",
    "        limit=limit,\n",
    "        with_payload=True\n",
    "    )\n",
    "\n",
    "    return [p.payload for p in results.points]"
   ]
  },
  {
   "cell_type": "code",
   "execution_count": 23,
   "id": "89f4f799",
   "metadata": {},
   "outputs": [
    {
     "data": {
      "application/vnd.jupyter.widget-view+json": {
       "model_id": "0932078235a0475faa84d150d98940e4",
       "version_major": 2,
       "version_minor": 0
      },
      "text/plain": [
       "  0%|          | 0/200 [00:00<?, ?it/s]"
      ]
     },
     "metadata": {},
     "output_type": "display_data"
    }
   ],
   "source": [
    "relevance_total = []\n",
    "\n",
    "for q in tqdm(ground_truth_dict):\n",
    "    doc_id = q['document']\n",
    "    results = vector_search(qd_client, query=q['question'], qtype=q['qtype'])\n",
    "    relevance = [d['id'] == doc_id for d in results]\n",
    "    relevance_total.append(relevance)"
   ]
  },
  {
   "cell_type": "code",
   "execution_count": 25,
   "id": "7a4a846f",
   "metadata": {},
   "outputs": [
    {
     "data": {
      "text/plain": [
       "(0.845, 0.7826666666666666)"
      ]
     },
     "execution_count": 25,
     "metadata": {},
     "output_type": "execute_result"
    }
   ],
   "source": [
    "hit_rate(relevance_total), mrr(relevance_total)"
   ]
  },
  {
   "cell_type": "code",
   "execution_count": 24,
   "id": "f11baaff-43d9-4b8c-a896-561b86e85743",
   "metadata": {},
   "outputs": [],
   "source": [
    "def evaluate(ground_truth, search_function):\n",
    "    relevance_total = []\n",
    "\n",
    "    for q in tqdm(ground_truth):\n",
    "        doc_id = q['document']\n",
    "        results = search_function(q)\n",
    "        relevance = [d['id'] == doc_id for d in results]\n",
    "        relevance_total.append(relevance)\n",
    "\n",
    "    return {\n",
    "        'hit_rate': hit_rate(relevance_total),\n",
    "        'mrr': mrr(relevance_total),\n",
    "    }"
   ]
  },
  {
   "cell_type": "code",
   "execution_count": 23,
   "id": "611846a8-a977-4483-bd01-61575821c18c",
   "metadata": {},
   "outputs": [
    {
     "data": {
      "application/vnd.jupyter.widget-view+json": {
       "model_id": "66e7896cbdb44ab9ba7faf2a219ba617",
       "version_major": 2,
       "version_minor": 0
      },
      "text/plain": [
       "  0%|          | 0/200 [00:00<?, ?it/s]"
      ]
     },
     "metadata": {},
     "output_type": "display_data"
    },
    {
     "data": {
      "text/plain": [
       "{'hit_rate': 0.785, 'mrr': 0.7299166666666665}"
      ]
     },
     "execution_count": 23,
     "metadata": {},
     "output_type": "execute_result"
    }
   ],
   "source": [
    "# Elastic Search Evaluation\n",
    "evaluate(ground_truth_dict, lambda q: elastic_search(q['question'], q['qtype']))"
   ]
  },
  {
   "cell_type": "code",
   "execution_count": 24,
   "id": "14cab5ff-f42e-4030-b7ba-6edf47d73d21",
   "metadata": {},
   "outputs": [
    {
     "data": {
      "application/vnd.jupyter.widget-view+json": {
       "model_id": "dcc5b3bff1d14c50a86fd287ddd72615",
       "version_major": 2,
       "version_minor": 0
      },
      "text/plain": [
       "  0%|          | 0/200 [00:00<?, ?it/s]"
      ]
     },
     "metadata": {},
     "output_type": "display_data"
    },
    {
     "data": {
      "text/plain": [
       "{'hit_rate': 0.82, 'mrr': 0.7745000000000001}"
      ]
     },
     "execution_count": 24,
     "metadata": {},
     "output_type": "execute_result"
    }
   ],
   "source": [
    "# MinSearch Evaluation\n",
    "evaluate(ground_truth_dict, lambda q: minsearch_search(q['question'], q['qtype']))"
   ]
  },
  {
   "cell_type": "code",
   "execution_count": 27,
   "id": "f1d3530e-1406-49dd-bba9-914f6a39d7f2",
   "metadata": {},
   "outputs": [
    {
     "data": {
      "application/vnd.jupyter.widget-view+json": {
       "model_id": "98bf267421a34b98b824b66f373b3c20",
       "version_major": 2,
       "version_minor": 0
      },
      "text/plain": [
       "  0%|          | 0/200 [00:00<?, ?it/s]"
      ]
     },
     "metadata": {},
     "output_type": "display_data"
    },
    {
     "data": {
      "text/plain": [
       "{'hit_rate': 0.845, 'mrr': 0.7826666666666666}"
      ]
     },
     "execution_count": 27,
     "metadata": {},
     "output_type": "execute_result"
    }
   ],
   "source": [
    "# Qdrant VectorSearch Evaluation\n",
    "evaluate(ground_truth_dict, lambda q: vector_search(qd_client,q['question'], q['qtype']))"
   ]
  },
  {
   "cell_type": "code",
   "execution_count": null,
   "id": "6b979e08",
   "metadata": {},
   "outputs": [],
   "source": []
  }
 ],
 "metadata": {
  "kernelspec": {
   "display_name": "llm",
   "language": "python",
   "name": "llm"
  },
  "language_info": {
   "codemirror_mode": {
    "name": "ipython",
    "version": 3
   },
   "file_extension": ".py",
   "mimetype": "text/x-python",
   "name": "python",
   "nbconvert_exporter": "python",
   "pygments_lexer": "ipython3",
   "version": "3.10.13"
  }
 },
 "nbformat": 4,
 "nbformat_minor": 5
}
