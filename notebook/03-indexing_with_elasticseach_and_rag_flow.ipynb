{
 "cells": [
  {
   "cell_type": "code",
   "execution_count": 1,
   "id": "8142c5aa",
   "metadata": {},
   "outputs": [],
   "source": [
    "import json\n",
    "from tqdm import tqdm"
   ]
  },
  {
   "cell_type": "markdown",
   "id": "e66b2bb9",
   "metadata": {},
   "source": [
    "## Data Ingestion"
   ]
  },
  {
   "cell_type": "code",
   "execution_count": 2,
   "id": "aa517820",
   "metadata": {},
   "outputs": [],
   "source": [
    "# Load dataset from JSON\n",
    "with open(\"./../dataset/medical_qa_documents_with_id.json\", \"r\") as f:\n",
    "    docs_raw = json.load(f)"
   ]
  },
  {
   "cell_type": "code",
   "execution_count": 3,
   "id": "237b3d9a",
   "metadata": {},
   "outputs": [
    {
     "name": "stdout",
     "output_type": "stream",
     "text": [
      "Total documents loaded: 14443\n",
      "Keys in document: dict_keys(['document_info', 'documents'])\n"
     ]
    }
   ],
   "source": [
    "documents = docs_raw[0][\"documents\"]  # get the list of Q&A documents\n",
    "\n",
    "print(\"Total documents loaded:\", len(documents))\n",
    "print(\"Keys in document:\", docs_raw[0].keys())"
   ]
  },
  {
   "cell_type": "code",
   "execution_count": 4,
   "id": "079e113a",
   "metadata": {},
   "outputs": [],
   "source": [
    "documents = []\n",
    "\n",
    "for docs_info in docs_raw:\n",
    "    for doc in docs_info['documents']:\n",
    "        documents.append(doc)"
   ]
  },
  {
   "cell_type": "code",
   "execution_count": 5,
   "id": "b90ff41f",
   "metadata": {},
   "outputs": [
    {
     "data": {
      "text/plain": [
       "{'question': 'Who is at risk for Lymphocytic Choriomeningitis (LCM)?',\n",
       " 'answer': 'LCMV infections can occur after exposure to fresh urine, droppings, saliva, or nesting materials from infected rodents. Transmission may also occur when these materials are directly introduced into broken skin, the nose, the eyes, or the mouth, or presumably, via the bite of an infected rodent. Person-to-person transmission has not been reported, with the exception of vertical transmission from infected mother to fetus, and rarely, through organ transplantation.',\n",
       " 'qtype': 'susceptibility',\n",
       " 'id': 'f72c0d85'}"
      ]
     },
     "execution_count": 5,
     "metadata": {},
     "output_type": "execute_result"
    }
   ],
   "source": [
    "documents[0]"
   ]
  },
  {
   "cell_type": "markdown",
   "id": "6c9bc17e",
   "metadata": {},
   "source": [
    "### testing Grok API"
   ]
  },
  {
   "cell_type": "code",
   "execution_count": 6,
   "id": "d922bfb9",
   "metadata": {},
   "outputs": [],
   "source": [
    "import os\n",
    "os.environ[\"GROQ_API_KEY\"] = \"gsk_xxxxxxxxxxxxxxxxxxxxxxxxxxxxxxxx\""
   ]
  },
  {
   "cell_type": "code",
   "execution_count": 7,
   "id": "c45f1621",
   "metadata": {},
   "outputs": [],
   "source": [
    "from groq import Groq\n",
    "\n",
    "client = Groq()"
   ]
  },
  {
   "cell_type": "code",
   "execution_count": 8,
   "id": "bd154502",
   "metadata": {},
   "outputs": [],
   "source": [
    "q = \"what is malaria?\""
   ]
  },
  {
   "cell_type": "code",
   "execution_count": 9,
   "id": "5d74db32",
   "metadata": {},
   "outputs": [],
   "source": [
    "response = client.chat.completions.create(\n",
    "    model=\"openai/gpt-oss-20b\",\n",
    "    messages=[\n",
    "      {\n",
    "        \"role\": \"user\",\n",
    "        \"content\": q\n",
    "      }\n",
    "    ]\n",
    ")"
   ]
  },
  {
   "cell_type": "code",
   "execution_count": 10,
   "id": "7ab90b60",
   "metadata": {
    "scrolled": true
   },
   "outputs": [
    {
     "data": {
      "text/plain": [
       "'**Malaria** is a life‑threatening infectious disease caused by parasites of the genus *Plasmodium*. The most common species that infect humans are *P. falciparum*, *P. vivax*, *P. ovale*, *P. malariae*, and, more rarely, *P. knowlesi*.  \\n\\n### How it’s transmitted\\n- **Mosquito bite**: The parasite is transmitted when an infected female *Anopheles* mosquito (the “malaria mosquito”) bites a human and injects sporozoites into the bloodstream.\\n- **Other routes** (rare): blood transfusion, organ transplant, mother‑to‑child during pregnancy or delivery, or sharing of contaminated needles.\\n\\n### Life cycle (simplified)\\n1. **Sporozoites** enter the bloodstream → travel to the liver.  \\n2. **Liver stage**: parasites replicate in hepatocytes.  \\n3. **Blood stage**: merozoites burst out of liver cells → invade red blood cells, multiply, and cause them to rupture.  \\n4. **Release of new merozoites** → infect more red blood cells → cycle repeats.  \\n\\n### Symptoms\\n- Fever (often spiking every 48–72 hours)\\n- Chills and sweats\\n- Headache, muscle aches, nausea, vomiting\\n- In severe cases: anemia, organ failure, cerebral malaria (confusion, seizures)\\n\\n### Epidemiology\\n- **Global burden**: >200 million clinical cases and ~600,000 deaths annually (mostly children under 5 in sub‑Saharan Africa).\\n- **Transmission hotspots**: Tropical and subtropical regions with Anopheles mosquitoes—Africa, South Asia, parts of Latin America.\\n\\n### Diagnosis\\n- **Microscopy**: Gold standard; visual detection of parasites in stained blood smears.\\n- **Rapid diagnostic tests (RDTs)**: Detect parasite antigens; useful in remote settings.\\n- **PCR**: Highly sensitive; used in research or confirmation.\\n\\n### Treatment\\n- **First‑line drugs**: Artemisinin‑based combination therapies (ACTs) are the mainstay for *P. falciparum* and *P. vivax* (the latter often paired with primaquine to clear liver hypnozoites).\\n- **Other antimalarials**: chloroquine (effective for *P. vivax*, *P. malariae* but not *P. falciparum* in most regions), quinine, mefloquine, doxycycline, atovaquone‑proguanil.\\n- **Severe malaria**: Intravenous artesunate or quinine, plus supportive care in a hospital.\\n\\n### Prevention\\n- **Vector control**: Insecticide‑treated bed nets, indoor residual spraying, larval source management.  \\n- **Chemoprophylaxis**: For travelers to endemic areas (e.g., doxycycline, atovaquone‑proguanil, mefloquine).  \\n- **Vaccination**: The RTS,S/AS01 (“Mosquirix”) vaccine has shown modest efficacy in young children in Ghana and Kenya but is not yet widely deployed.  \\n- **Personal protection**: Long‑sleeved clothing, repellents, window screens.  \\n\\n### Research & Future Directions\\n- **New drugs**: Tafenoquine (long‑acting anti‑hypnozoite), new antimalarial combinations.\\n- **Better diagnostics**: More sensitive point‑of‑care tests.\\n- **Improved vaccine**: Next‑generation antigens and adjuvants to increase efficacy and duration.\\n- **Genetic control of mosquitoes**: Gene editing approaches to reduce vector competence.\\n\\n---\\n\\n**Bottom line**: Malaria is a mosquito‑borne parasitic disease that remains a major public health challenge, especially in sub‑Saharan Africa. Early diagnosis, prompt treatment, and effective vector control are the pillars of malaria control and elimination efforts.'"
      ]
     },
     "execution_count": 10,
     "metadata": {},
     "output_type": "execute_result"
    }
   ],
   "source": [
    "response.choices[0].message.content"
   ]
  },
  {
   "cell_type": "markdown",
   "id": "60a3e7a1",
   "metadata": {},
   "source": [
    "## Indexing ElasticSearch"
   ]
  },
  {
   "cell_type": "code",
   "execution_count": 12,
   "id": "7e72544b",
   "metadata": {},
   "outputs": [],
   "source": [
    "from elasticsearch import Elasticsearch"
   ]
  },
  {
   "cell_type": "code",
   "execution_count": 13,
   "id": "bffdd453",
   "metadata": {},
   "outputs": [
    {
     "name": "stdout",
     "output_type": "stream",
     "text": [
      "{'name': '25cfe1f5474e', 'cluster_name': 'docker-cluster', 'cluster_uuid': 'buIn5x-TT1C4org_uA0YJw', 'version': {'number': '8.19.4', 'build_flavor': 'default', 'build_type': 'docker', 'build_hash': 'aa0a7826e719b392e7782716b323c4fb8fa3b392', 'build_date': '2025-09-16T22:06:03.940754111Z', 'build_snapshot': False, 'lucene_version': '9.12.2', 'minimum_wire_compatibility_version': '7.17.0', 'minimum_index_compatibility_version': '7.0.0'}, 'tagline': 'You Know, for Search'}\n"
     ]
    }
   ],
   "source": [
    "es_client = Elasticsearch(\n",
    "    [\"http://localhost:9200\"],   # must include scheme http://\n",
    "    request_timeout=60           # increase timeout in case ES is slow\n",
    ")\n",
    "\n",
    "print(es_client.info())"
   ]
  },
  {
   "cell_type": "code",
   "execution_count": 16,
   "id": "4aea2f70",
   "metadata": {},
   "outputs": [
    {
     "name": "stdout",
     "output_type": "stream",
     "text": [
      "{'cluster_name': 'docker-cluster', 'status': 'green', 'timed_out': False, 'number_of_nodes': 1, 'number_of_data_nodes': 1, 'active_primary_shards': 1, 'active_shards': 1, 'relocating_shards': 0, 'initializing_shards': 0, 'unassigned_shards': 0, 'unassigned_primary_shards': 0, 'delayed_unassigned_shards': 0, 'number_of_pending_tasks': 0, 'number_of_in_flight_fetch': 0, 'task_max_waiting_in_queue_millis': 0, 'active_shards_percent_as_number': 100.0}\n"
     ]
    }
   ],
   "source": [
    "index_settings = {\n",
    "    \"settings\": {\n",
    "        \"number_of_shards\": 1,\n",
    "        \"number_of_replicas\": 0\n",
    "    },\n",
    "    \"mappings\": {\n",
    "        \"properties\": {\n",
    "            \"answer\": {\"type\": \"text\"},\n",
    "            \"question\": {\"type\": \"text\"},\n",
    "            \"qtype\": {\"type\": \"keyword\"} \n",
    "        }\n",
    "    }\n",
    "}\n",
    "\n",
    "index_name = \"medical-questions\"\n",
    "\n",
    "es_client.indices.create(index=index_name, body=index_settings)\n",
    "print(es_client.cluster.health())\n"
   ]
  },
  {
   "cell_type": "code",
   "execution_count": 17,
   "id": "e765413e",
   "metadata": {},
   "outputs": [
    {
     "data": {
      "text/plain": [
       "TextApiResponse('index             shard prirep state   docs store dataset ip         node\\nmedical-questions 0     p      STARTED    0  227b    227b 172.17.0.2 25cfe1f5474e\\n')"
      ]
     },
     "execution_count": 17,
     "metadata": {},
     "output_type": "execute_result"
    }
   ],
   "source": [
    "# es_client.indices.delete(index=index_name, ignore=[400, 404])\n",
    "es_client.cat.shards(index=index_name, v=True)"
   ]
  },
  {
   "cell_type": "code",
   "execution_count": 18,
   "id": "046b8d30",
   "metadata": {},
   "outputs": [
    {
     "data": {
      "text/plain": [
       "{'question': 'Who is at risk for Lymphocytic Choriomeningitis (LCM)?',\n",
       " 'answer': 'LCMV infections can occur after exposure to fresh urine, droppings, saliva, or nesting materials from infected rodents. Transmission may also occur when these materials are directly introduced into broken skin, the nose, the eyes, or the mouth, or presumably, via the bite of an infected rodent. Person-to-person transmission has not been reported, with the exception of vertical transmission from infected mother to fetus, and rarely, through organ transplantation.',\n",
       " 'qtype': 'susceptibility',\n",
       " 'id': 'f72c0d85'}"
      ]
     },
     "execution_count": 18,
     "metadata": {},
     "output_type": "execute_result"
    }
   ],
   "source": [
    "documents[0]"
   ]
  },
  {
   "cell_type": "code",
   "execution_count": 19,
   "id": "0f1dc3d9",
   "metadata": {},
   "outputs": [
    {
     "name": "stderr",
     "output_type": "stream",
     "text": [
      "100%|█████████████████████████████████████| 14443/14443 [06:00<00:00, 40.01it/s]\n"
     ]
    }
   ],
   "source": [
    "for doc in tqdm(documents):\n",
    "    es_client.index(index=index_name, document=doc)"
   ]
  },
  {
   "cell_type": "markdown",
   "id": "2deba0bd",
   "metadata": {},
   "source": [
    "## RAG with Elastic Search"
   ]
  },
  {
   "cell_type": "code",
   "execution_count": 20,
   "id": "b93559c3",
   "metadata": {},
   "outputs": [],
   "source": [
    "def build_prompt(query, search_results):\n",
    "\n",
    "    prompt_template = \"\"\"\n",
    "You are a professional medical assistant.\n",
    "Answer the QUESTION using only the CONTEXT provided from verified medical sources.\n",
    "If the answer is not available in the CONTEXT, say \"I'm not sure based on the available information.\"\n",
    "\n",
    "QUESTION: {question}\n",
    "\n",
    "CONTEXT:\n",
    "{context}\n",
    "\"\"\".strip()\n",
    "    \n",
    "    context = \"\"\n",
    "    \n",
    "    for doc in search_results:\n",
    "        context = context + f\"question: {doc['question']}\\nanswer: {doc['answer']}\\n\\n\"\n",
    "    \n",
    "    prompt = prompt_template.format(question=query, context=context).strip()\n",
    "    return prompt"
   ]
  },
  {
   "cell_type": "code",
   "execution_count": 21,
   "id": "53a28293",
   "metadata": {},
   "outputs": [],
   "source": [
    "def llm(prompt):\n",
    "    response = client.chat.completions.create(\n",
    "        model=\"openai/gpt-oss-20b\",\n",
    "        messages=[{\"role\": \"user\", \"content\": prompt}]\n",
    "    )\n",
    "    \n",
    "    return response.choices[0].message.content"
   ]
  },
  {
   "cell_type": "code",
   "execution_count": 22,
   "id": "46c785db",
   "metadata": {},
   "outputs": [],
   "source": [
    "def elastic_search(query, qtype):\n",
    "    search_query = {\n",
    "        \"size\": 5,\n",
    "        \"query\": {\n",
    "            \"bool\": {\n",
    "                \"must\": {\n",
    "                    \"multi_match\": {\n",
    "                        \"query\": query,\n",
    "                        \"fields\": [\"question^3\", \"answer\", \"qtype\"],\n",
    "                        \"type\": \"best_fields\"\n",
    "                    }\n",
    "                },\n",
    "                \"filter\": {\n",
    "                    \"term\": {\n",
    "                        \"qtype\": qtype\n",
    "                    }\n",
    "                }\n",
    "            }\n",
    "        }\n",
    "    }\n",
    "\n",
    "    response = es_client.search(index=index_name, body=search_query)\n",
    "    \n",
    "    result_docs = []\n",
    "    \n",
    "    for hit in response['hits']['hits']:\n",
    "        result_docs.append(hit['_source'])\n",
    "    \n",
    "    return result_docs"
   ]
  },
  {
   "cell_type": "code",
   "execution_count": 25,
   "id": "acd45b3c",
   "metadata": {},
   "outputs": [],
   "source": [
    "def elastic_search_rag(query, qtype):\n",
    "    search_results = elastic_search(query, qtype)\n",
    "    prompt = build_prompt(query, search_results)\n",
    "    answer = llm(prompt)\n",
    "    return answer"
   ]
  },
  {
   "cell_type": "code",
   "execution_count": 26,
   "id": "b05dcbe1",
   "metadata": {},
   "outputs": [
    {
     "data": {
      "text/plain": [
       "'Malaria is a serious disease caused by a parasite that you contract when an infected mosquito bites you. It is a major cause of death worldwide, especially in developing countries with warm climates, and is almost eliminated in the United States. Four related parasites cause malaria, with the most deadly type found in sub‑Saharan Africa. Symptoms include chills, fever, flu‑like symptoms, vomiting, diarrhea, and jaundice, and a blood test can diagnose it. Treatment depends on the type of parasite and the region of infection, and prevention involves medication, insect repellant, protective clothing, and mosquito nets.'"
      ]
     },
     "execution_count": 26,
     "metadata": {},
     "output_type": "execute_result"
    }
   ],
   "source": [
    "query = \"what is malaria?\"\n",
    "qtype = 'information'\n",
    "answer = elastic_search_rag(query, qtype)\n",
    "answer"
   ]
  },
  {
   "cell_type": "code",
   "execution_count": null,
   "id": "3cb95ea5",
   "metadata": {},
   "outputs": [],
   "source": []
  }
 ],
 "metadata": {
  "kernelspec": {
   "display_name": "llm",
   "language": "python",
   "name": "llm"
  },
  "language_info": {
   "codemirror_mode": {
    "name": "ipython",
    "version": 3
   },
   "file_extension": ".py",
   "mimetype": "text/x-python",
   "name": "python",
   "nbconvert_exporter": "python",
   "pygments_lexer": "ipython3",
   "version": "3.10.13"
  }
 },
 "nbformat": 4,
 "nbformat_minor": 5
}
