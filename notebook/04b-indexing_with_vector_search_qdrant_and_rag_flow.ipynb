{
 "cells": [
  {
   "cell_type": "code",
   "execution_count": 1,
   "id": "8142c5aa",
   "metadata": {},
   "outputs": [],
   "source": [
    "import json\n",
    "from tqdm import tqdm\n",
    "import pickle"
   ]
  },
  {
   "cell_type": "markdown",
   "id": "e66b2bb9",
   "metadata": {},
   "source": [
    "### Data Ingestion in Qdrant"
   ]
  },
  {
   "cell_type": "code",
   "execution_count": 2,
   "id": "aa517820",
   "metadata": {},
   "outputs": [],
   "source": [
    "\n",
    "# Load dataset from JSON\n",
    "with open(\"./../dataset/medical_qa_documents_with_id.json\", \"r\") as f:\n",
    "    docs_raw = json.load(f)"
   ]
  },
  {
   "cell_type": "code",
   "execution_count": 3,
   "id": "237b3d9a",
   "metadata": {},
   "outputs": [
    {
     "name": "stdout",
     "output_type": "stream",
     "text": [
      "Total documents loaded: 14443\n",
      "Keys in document: dict_keys(['document_info', 'documents'])\n"
     ]
    }
   ],
   "source": [
    "documents = docs_raw[0][\"documents\"]  # get the list of Q&A documents\n",
    "\n",
    "print(\"Total documents loaded:\", len(documents))\n",
    "print(\"Keys in document:\", docs_raw[0].keys())\n"
   ]
  },
  {
   "cell_type": "code",
   "execution_count": 4,
   "id": "079e113a",
   "metadata": {},
   "outputs": [],
   "source": [
    "documents = []\n",
    "\n",
    "for docs_info in docs_raw:\n",
    "    for doc in docs_info['documents']:\n",
    "        documents.append(doc)"
   ]
  },
  {
   "cell_type": "code",
   "execution_count": 5,
   "id": "b90ff41f",
   "metadata": {},
   "outputs": [
    {
     "data": {
      "text/plain": [
       "{'question': 'Who is at risk for Lymphocytic Choriomeningitis (LCM)?',\n",
       " 'answer': 'LCMV infections can occur after exposure to fresh urine, droppings, saliva, or nesting materials from infected rodents. Transmission may also occur when these materials are directly introduced into broken skin, the nose, the eyes, or the mouth, or presumably, via the bite of an infected rodent. Person-to-person transmission has not been reported, with the exception of vertical transmission from infected mother to fetus, and rarely, through organ transplantation.',\n",
       " 'qtype': 'susceptibility',\n",
       " 'id': 'f72c0d85'}"
      ]
     },
     "execution_count": 5,
     "metadata": {},
     "output_type": "execute_result"
    }
   ],
   "source": [
    "documents[0]"
   ]
  },
  {
   "cell_type": "code",
   "execution_count": 6,
   "id": "193a93cf",
   "metadata": {},
   "outputs": [],
   "source": [
    "from qdrant_client import QdrantClient, models"
   ]
  },
  {
   "cell_type": "code",
   "execution_count": 8,
   "id": "a8634fc3",
   "metadata": {},
   "outputs": [],
   "source": [
    "qd_client = QdrantClient(\n",
    "    url=\"http://localhost:6333\",\n",
    "    timeout=60  # seconds (1 minutes)\n",
    ")\n",
    "\n",
    "collection_name = \"medical-faq\""
   ]
  },
  {
   "cell_type": "code",
   "execution_count": 9,
   "id": "fc853885",
   "metadata": {},
   "outputs": [
    {
     "data": {
      "text/plain": [
       "True"
      ]
     },
     "execution_count": 9,
     "metadata": {},
     "output_type": "execute_result"
    }
   ],
   "source": [
    "# delete collection name if already created in qdrant\n",
    "qd_client.delete_collection(collection_name=collection_name)"
   ]
  },
  {
   "cell_type": "markdown",
   "id": "b1214d3e",
   "metadata": {},
   "source": [
    "#### generating embedding vector"
   ]
  },
  {
   "cell_type": "code",
   "execution_count": 10,
   "id": "dea62564",
   "metadata": {},
   "outputs": [],
   "source": [
    "from sentence_transformers import SentenceTransformer\n",
    "\n",
    "EMBEDDING_DIMENSIONALITY = 384  # for multi-qa-MiniLM-L6-cos-v1\n",
    "\n",
    "model_name = 'multi-qa-MiniLM-L6-cos-v1'\n",
    "model = SentenceTransformer(model_name)"
   ]
  },
  {
   "cell_type": "markdown",
   "id": "1af02094",
   "metadata": {},
   "source": [
    "### Generate embedding vectors"
   ]
  },
  {
   "cell_type": "code",
   "execution_count": null,
   "id": "5f6ad99a",
   "metadata": {},
   "outputs": [],
   "source": [
    "# no need to run embedding is already generated and locally saved\n",
    "vectors = []\n",
    "\n",
    "for doc in tqdm(documents):\n",
    "    question = doc['question']\n",
    "    answer = doc['answer']\n",
    "    vector = model.encode(question + ' ' + answer)\n",
    "    vectors.append(vector)"
   ]
  },
  {
   "cell_type": "markdown",
   "id": "7e1556df",
   "metadata": {},
   "source": [
    "### Load the embedding vector if already generated"
   ]
  },
  {
   "cell_type": "code",
   "execution_count": 11,
   "id": "2fefa7e9",
   "metadata": {},
   "outputs": [
    {
     "name": "stdout",
     "output_type": "stream",
     "text": [
      "Loaded 14443 vectors and 14443 documents\n"
     ]
    }
   ],
   "source": [
    "with open(\"./../dataset/documents-vectors-multi-qa-MiniLM-L6-cos-v1.pkl\", \"rb\") as f:\n",
    "    vectors = pickle.load(f)\n",
    "\n",
    "print(f\"Loaded {len(vectors)} vectors and {len(documents)} documents\")"
   ]
  },
  {
   "cell_type": "code",
   "execution_count": 34,
   "id": "856766d2",
   "metadata": {},
   "outputs": [
    {
     "name": "stderr",
     "output_type": "stream",
     "text": [
      "/tmp/ipykernel_406099/1908977585.py:1: DeprecationWarning: `recreate_collection` method is deprecated and will be removed in the future. Use `collection_exists` to check collection existence and `create_collection` instead.\n",
      "  qd_client.recreate_collection(\n"
     ]
    },
    {
     "data": {
      "text/plain": [
       "True"
      ]
     },
     "execution_count": 34,
     "metadata": {},
     "output_type": "execute_result"
    }
   ],
   "source": [
    "qd_client.recreate_collection(\n",
    "    collection_name=collection_name,\n",
    "    vectors_config=models.VectorParams(\n",
    "        size=EMBEDDING_DIMENSIONALITY,\n",
    "        distance=models.Distance.COSINE\n",
    "    )\n",
    ")"
   ]
  },
  {
   "cell_type": "code",
   "execution_count": null,
   "id": "97a37a99",
   "metadata": {},
   "outputs": [],
   "source": [
    "qd_client.create_payload_index(\n",
    "    collection_name=collection_name,\n",
    "    field_name=\"qtype\",\n",
    "    field_schema=\"keyword\"\n",
    ")"
   ]
  },
  {
   "cell_type": "code",
   "execution_count": 35,
   "id": "71e59618",
   "metadata": {
    "scrolled": true
   },
   "outputs": [
    {
     "data": {
      "application/vnd.jupyter.widget-view+json": {
       "model_id": "56502981dd2345918f2e7793a0252c32",
       "version_major": 2,
       "version_minor": 0
      },
      "text/plain": [
       "Uploading to Qdrant:   0%|          | 0/150 [00:00<?, ?it/s]"
      ]
     },
     "metadata": {},
     "output_type": "display_data"
    },
    {
     "name": "stdout",
     "output_type": "stream",
     "text": [
      "Uploaded 100/14979 | Memory: 659.52 MB\n",
      "Uploaded 200/14979 | Memory: 662.53 MB\n",
      "Uploaded 300/14979 | Memory: 662.53 MB\n",
      "Uploaded 400/14979 | Memory: 662.53 MB\n",
      "Uploaded 500/14979 | Memory: 662.53 MB\n",
      "Uploaded 600/14979 | Memory: 662.53 MB\n",
      "Uploaded 700/14979 | Memory: 662.53 MB\n",
      "Uploaded 800/14979 | Memory: 662.53 MB\n",
      "Uploaded 900/14979 | Memory: 662.53 MB\n",
      "Uploaded 1000/14979 | Memory: 662.53 MB\n",
      "Uploaded 1100/14979 | Memory: 662.53 MB\n",
      "Uploaded 1200/14979 | Memory: 662.53 MB\n",
      "Uploaded 1300/14979 | Memory: 662.53 MB\n",
      "Uploaded 1400/14979 | Memory: 662.53 MB\n",
      "Uploaded 1500/14979 | Memory: 662.53 MB\n",
      "Uploaded 1600/14979 | Memory: 662.53 MB\n",
      "Uploaded 1700/14979 | Memory: 662.53 MB\n",
      "Uploaded 1800/14979 | Memory: 662.53 MB\n",
      "Uploaded 1900/14979 | Memory: 662.53 MB\n",
      "Uploaded 2000/14979 | Memory: 662.53 MB\n",
      "Uploaded 2100/14979 | Memory: 662.53 MB\n",
      "Uploaded 2200/14979 | Memory: 662.53 MB\n",
      "Uploaded 2300/14979 | Memory: 662.53 MB\n",
      "Uploaded 2400/14979 | Memory: 662.53 MB\n",
      "Uploaded 2500/14979 | Memory: 662.53 MB\n",
      "Uploaded 2600/14979 | Memory: 662.53 MB\n",
      "Uploaded 2700/14979 | Memory: 662.53 MB\n",
      "Uploaded 2800/14979 | Memory: 662.53 MB\n",
      "Uploaded 2900/14979 | Memory: 662.53 MB\n",
      "Uploaded 3000/14979 | Memory: 662.53 MB\n",
      "Uploaded 3100/14979 | Memory: 662.53 MB\n",
      "Uploaded 3200/14979 | Memory: 662.53 MB\n",
      "Uploaded 3300/14979 | Memory: 662.53 MB\n",
      "Uploaded 3400/14979 | Memory: 662.53 MB\n",
      "Uploaded 3500/14979 | Memory: 662.53 MB\n",
      "Uploaded 3600/14979 | Memory: 662.53 MB\n",
      "Uploaded 3700/14979 | Memory: 662.53 MB\n",
      "Uploaded 3800/14979 | Memory: 662.53 MB\n",
      "Uploaded 3900/14979 | Memory: 662.53 MB\n",
      "Uploaded 4000/14979 | Memory: 662.53 MB\n",
      "Uploaded 4100/14979 | Memory: 662.53 MB\n",
      "Uploaded 4200/14979 | Memory: 662.53 MB\n",
      "Uploaded 4300/14979 | Memory: 662.53 MB\n",
      "Uploaded 4400/14979 | Memory: 662.53 MB\n",
      "Uploaded 4500/14979 | Memory: 662.53 MB\n",
      "Uploaded 4600/14979 | Memory: 662.53 MB\n",
      "Uploaded 4700/14979 | Memory: 662.53 MB\n",
      "Uploaded 4800/14979 | Memory: 662.53 MB\n",
      "Uploaded 4900/14979 | Memory: 662.53 MB\n",
      "Uploaded 5000/14979 | Memory: 662.53 MB\n",
      "Uploaded 5100/14979 | Memory: 662.53 MB\n",
      "Uploaded 5200/14979 | Memory: 662.53 MB\n",
      "Uploaded 5300/14979 | Memory: 662.53 MB\n",
      "Uploaded 5400/14979 | Memory: 662.53 MB\n",
      "Uploaded 5500/14979 | Memory: 662.53 MB\n",
      "Uploaded 5600/14979 | Memory: 662.53 MB\n",
      "Uploaded 5700/14979 | Memory: 662.53 MB\n",
      "Uploaded 5800/14979 | Memory: 662.53 MB\n",
      "Uploaded 5900/14979 | Memory: 662.53 MB\n",
      "Uploaded 6000/14979 | Memory: 662.53 MB\n",
      "Uploaded 6100/14979 | Memory: 662.53 MB\n",
      "Uploaded 6200/14979 | Memory: 662.53 MB\n",
      "Uploaded 6300/14979 | Memory: 662.53 MB\n",
      "Uploaded 6400/14979 | Memory: 662.53 MB\n",
      "Uploaded 6500/14979 | Memory: 662.53 MB\n",
      "Uploaded 6600/14979 | Memory: 662.53 MB\n",
      "Uploaded 6700/14979 | Memory: 662.53 MB\n",
      "Uploaded 6800/14979 | Memory: 662.53 MB\n",
      "Uploaded 6900/14979 | Memory: 662.53 MB\n",
      "Uploaded 7000/14979 | Memory: 662.53 MB\n",
      "Uploaded 7100/14979 | Memory: 662.53 MB\n",
      "Uploaded 7200/14979 | Memory: 662.53 MB\n",
      "Uploaded 7300/14979 | Memory: 662.53 MB\n",
      "Uploaded 7400/14979 | Memory: 662.53 MB\n",
      "Uploaded 7500/14979 | Memory: 662.53 MB\n",
      "Uploaded 7600/14979 | Memory: 662.53 MB\n",
      "Uploaded 7700/14979 | Memory: 662.53 MB\n",
      "Uploaded 7800/14979 | Memory: 662.53 MB\n",
      "Uploaded 7900/14979 | Memory: 662.53 MB\n",
      "Uploaded 8000/14979 | Memory: 662.53 MB\n",
      "Uploaded 8100/14979 | Memory: 662.53 MB\n",
      "Uploaded 8200/14979 | Memory: 662.53 MB\n",
      "Uploaded 8300/14979 | Memory: 662.53 MB\n",
      "Uploaded 8400/14979 | Memory: 662.53 MB\n",
      "Uploaded 8500/14979 | Memory: 662.53 MB\n",
      "Uploaded 8600/14979 | Memory: 662.53 MB\n",
      "Uploaded 8700/14979 | Memory: 662.53 MB\n",
      "Uploaded 8800/14979 | Memory: 662.53 MB\n",
      "Uploaded 8900/14979 | Memory: 662.53 MB\n",
      "Uploaded 9000/14979 | Memory: 662.53 MB\n",
      "Uploaded 9100/14979 | Memory: 662.53 MB\n",
      "Uploaded 9200/14979 | Memory: 662.53 MB\n",
      "Uploaded 9300/14979 | Memory: 662.53 MB\n",
      "Uploaded 9400/14979 | Memory: 662.53 MB\n",
      "Uploaded 9500/14979 | Memory: 662.53 MB\n",
      "Uploaded 9600/14979 | Memory: 662.53 MB\n",
      "Uploaded 9700/14979 | Memory: 662.53 MB\n",
      "Uploaded 9800/14979 | Memory: 662.53 MB\n",
      "Uploaded 9900/14979 | Memory: 662.53 MB\n",
      "Uploaded 10000/14979 | Memory: 662.53 MB\n",
      "Uploaded 10100/14979 | Memory: 662.53 MB\n",
      "Uploaded 10200/14979 | Memory: 662.53 MB\n",
      "Uploaded 10300/14979 | Memory: 662.53 MB\n",
      "Uploaded 10400/14979 | Memory: 662.53 MB\n",
      "Uploaded 10500/14979 | Memory: 662.53 MB\n",
      "Uploaded 10600/14979 | Memory: 662.53 MB\n",
      "Uploaded 10700/14979 | Memory: 662.53 MB\n",
      "Uploaded 10800/14979 | Memory: 662.53 MB\n",
      "Uploaded 10900/14979 | Memory: 662.53 MB\n",
      "Uploaded 11000/14979 | Memory: 662.53 MB\n",
      "Uploaded 11100/14979 | Memory: 662.53 MB\n",
      "Uploaded 11200/14979 | Memory: 662.53 MB\n",
      "Uploaded 11300/14979 | Memory: 662.53 MB\n",
      "Uploaded 11400/14979 | Memory: 662.53 MB\n",
      "Uploaded 11500/14979 | Memory: 662.53 MB\n",
      "Uploaded 11600/14979 | Memory: 662.53 MB\n",
      "Uploaded 11700/14979 | Memory: 662.53 MB\n",
      "Uploaded 11800/14979 | Memory: 662.53 MB\n",
      "Uploaded 11900/14979 | Memory: 662.53 MB\n",
      "Uploaded 12000/14979 | Memory: 662.53 MB\n",
      "Uploaded 12100/14979 | Memory: 662.53 MB\n",
      "Uploaded 12200/14979 | Memory: 662.53 MB\n",
      "Uploaded 12300/14979 | Memory: 662.53 MB\n",
      "Uploaded 12400/14979 | Memory: 662.53 MB\n",
      "Uploaded 12500/14979 | Memory: 662.53 MB\n",
      "Uploaded 12600/14979 | Memory: 662.53 MB\n",
      "Uploaded 12700/14979 | Memory: 662.53 MB\n",
      "Uploaded 12800/14979 | Memory: 662.53 MB\n",
      "Uploaded 12900/14979 | Memory: 662.53 MB\n",
      "Uploaded 13000/14979 | Memory: 662.53 MB\n",
      "Uploaded 13100/14979 | Memory: 662.53 MB\n",
      "Uploaded 13200/14979 | Memory: 662.53 MB\n",
      "Uploaded 13300/14979 | Memory: 662.53 MB\n",
      "Uploaded 13400/14979 | Memory: 662.53 MB\n",
      "Uploaded 13500/14979 | Memory: 662.53 MB\n",
      "Uploaded 13600/14979 | Memory: 662.53 MB\n",
      "Uploaded 13700/14979 | Memory: 662.53 MB\n",
      "Uploaded 13800/14979 | Memory: 662.53 MB\n",
      "Uploaded 13900/14979 | Memory: 662.53 MB\n",
      "Uploaded 14000/14979 | Memory: 662.53 MB\n",
      "Uploaded 14100/14979 | Memory: 662.53 MB\n",
      "Uploaded 14200/14979 | Memory: 662.53 MB\n",
      "Uploaded 14300/14979 | Memory: 662.53 MB\n",
      "Uploaded 14400/14979 | Memory: 662.53 MB\n",
      "Uploaded 14500/14979 | Memory: 662.53 MB\n",
      "Uploaded 14600/14979 | Memory: 662.53 MB\n",
      "Uploaded 14700/14979 | Memory: 662.53 MB\n",
      "Uploaded 14800/14979 | Memory: 662.53 MB\n",
      "Uploaded 14900/14979 | Memory: 662.53 MB\n",
      "Uploaded 15000/14979 | Memory: 662.53 MB\n"
     ]
    }
   ],
   "source": [
    "from tqdm.auto import tqdm\n",
    "import psutil, os, gc, time\n",
    "\n",
    "process = psutil.Process(os.getpid())\n",
    "BATCH_SIZE = 100\n",
    "\n",
    "for start in tqdm(range(0, len(vectors), BATCH_SIZE), desc=\"Uploading to Qdrant\"):\n",
    "    end = start + BATCH_SIZE\n",
    "    batch_vectors = vectors[start:end]\n",
    "    batch_docs = documents[start:end]\n",
    "\n",
    "    points = []\n",
    "    for i, (vec, doc) in enumerate(zip(batch_vectors, batch_docs)):\n",
    "        point = models.PointStruct(\n",
    "            id=start + i,\n",
    "            vector=vec.tolist(),\n",
    "            payload=doc\n",
    "        )\n",
    "        points.append(point)\n",
    "\n",
    "    qd_client.upsert(collection_name=collection_name, points=points)\n",
    "    gc.collect()\n",
    "\n",
    "    mem = process.memory_info().rss / 1e6\n",
    "    print(f\"Uploaded {end}/{len(vectors)} | Memory: {mem:.2f} MB\")\n",
    "    time.sleep(0.1)\n"
   ]
  },
  {
   "cell_type": "markdown",
   "id": "aa78e83a",
   "metadata": {},
   "source": [
    "## RAG with Vector Search\n"
   ]
  },
  {
   "cell_type": "code",
   "execution_count": 13,
   "id": "b441ffd9",
   "metadata": {},
   "outputs": [],
   "source": [
    "import os\n",
    "os.environ[\"GROQ_API_KEY\"] = \"gsk_xxxxxxxxxxxxxxxxxxxxxxxxxxxxxxxx\""
   ]
  },
  {
   "cell_type": "code",
   "execution_count": 14,
   "id": "89c01315",
   "metadata": {},
   "outputs": [],
   "source": [
    "from groq import Groq\n",
    "\n",
    "client = Groq()"
   ]
  },
  {
   "cell_type": "code",
   "execution_count": 15,
   "id": "31e13028",
   "metadata": {},
   "outputs": [],
   "source": [
    "def build_prompt(query, search_results):\n",
    "\n",
    "    prompt_template = \"\"\"\n",
    "You are a professional medical assistant.\n",
    "Answer the QUESTION using only the CONTEXT provided from verified medical sources.\n",
    "If the answer is not available in the CONTEXT, say \"I'm not sure based on the available information.\"\n",
    "\n",
    "QUESTION: {question}\n",
    "\n",
    "CONTEXT:\n",
    "{context}\n",
    "\"\"\".strip()\n",
    "    \n",
    "    context = \"\"\n",
    "    \n",
    "    for doc in search_results:\n",
    "        context = context + f\"question: {doc['question']}\\nanswer: {doc['answer']}\\n\\n\"\n",
    "    \n",
    "    prompt = prompt_template.format(question=query, context=context).strip()\n",
    "    return prompt"
   ]
  },
  {
   "cell_type": "code",
   "execution_count": 16,
   "id": "ea4abb50",
   "metadata": {},
   "outputs": [],
   "source": [
    "def llm(prompt):\n",
    "    response = client.chat.completions.create(\n",
    "        model=\"openai/gpt-oss-20b\",\n",
    "        messages=[{\"role\": \"user\", \"content\": prompt}]\n",
    "    )\n",
    "    \n",
    "    return response.choices[0].message.content"
   ]
  },
  {
   "cell_type": "code",
   "execution_count": 17,
   "id": "f4b05c96",
   "metadata": {},
   "outputs": [],
   "source": [
    "def vector_search(query, qtype=None, limit=5):\n",
    "    query_vector = model.encode([query])[0].tolist()\n",
    "\n",
    "    query_filter = None\n",
    "    if qtype:\n",
    "        query_filter = models.Filter(\n",
    "            must=[models.FieldCondition(key=\"qtype\", match=models.MatchValue(value=qtype))]\n",
    "        )\n",
    "\n",
    "    results = qd_client.query_points(\n",
    "        collection_name=collection_name,\n",
    "        query=query_vector,\n",
    "        query_filter=query_filter,\n",
    "        limit=limit,\n",
    "        with_payload=True\n",
    "    )\n",
    "\n",
    "    return [p.payload for p in results.points]\n"
   ]
  },
  {
   "cell_type": "code",
   "execution_count": 18,
   "id": "5e4b2897",
   "metadata": {},
   "outputs": [],
   "source": [
    "def rag(query, qtype):\n",
    "    search_results = vector_search(query, qtype)\n",
    "    prompt = build_prompt(query, search_results)\n",
    "    answer = llm(prompt)\n",
    "    return answer"
   ]
  },
  {
   "cell_type": "code",
   "execution_count": 19,
   "id": "ec6921e8",
   "metadata": {},
   "outputs": [
    {
     "data": {
      "text/plain": [
       "'Malaria is a serious disease caused by a parasite that you acquire when an infected mosquito bites you. It is a major cause of death worldwide and is most common in developing countries with warm climates. The disease is caused by four related parasites, with the most deadly type occurring in sub‑Saharan Africa. Symptoms include chills, fever, flu‑like illness, vomiting, diarrhea, and jaundice. A blood test can diagnose it, and it can be life‑threatening if untreated, but it can be treated with antimalarial drugs. Prevention involves antimalarial medication, insect repellents (e.g., DEET), protective clothing, and sleeping under mosquito nets.'"
      ]
     },
     "execution_count": 19,
     "metadata": {},
     "output_type": "execute_result"
    }
   ],
   "source": [
    "query = \"what is malaria?\"\n",
    "\n",
    "qtype = 'information'\n",
    "rag(query, qtype)"
   ]
  },
  {
   "cell_type": "code",
   "execution_count": null,
   "id": "08d1fe96",
   "metadata": {},
   "outputs": [],
   "source": []
  }
 ],
 "metadata": {
  "kernelspec": {
   "display_name": "llm",
   "language": "python",
   "name": "llm"
  },
  "language_info": {
   "codemirror_mode": {
    "name": "ipython",
    "version": 3
   },
   "file_extension": ".py",
   "mimetype": "text/x-python",
   "name": "python",
   "nbconvert_exporter": "python",
   "pygments_lexer": "ipython3",
   "version": "3.10.13"
  }
 },
 "nbformat": 4,
 "nbformat_minor": 5
}
