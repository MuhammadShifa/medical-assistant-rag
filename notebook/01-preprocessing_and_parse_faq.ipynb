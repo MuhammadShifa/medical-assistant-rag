{
 "cells": [
  {
   "cell_type": "markdown",
   "id": "b2ab2d3e",
   "metadata": {},
   "source": [
    "### Download the dataset\n",
    "\n",
    "[comprehensive-medical-q-a-dataset](https://www.kaggle.com/datasets/thedevastator/comprehensive-medical-q-a-dataset)\\\n",
    "The MedQuad dataset provides a comprehensive source of medical questions and answers for natural language processing. With over 43,000 patient inquiries from real-life situations categorized into 31 distinct types of questions, the dataset offers an invaluable opportunity to research correlations between treatments, chronic diseases, medical protocols and more. Answers provided in this database come not only from doctors but also other healthcare professionals such as nurses and pharmacists, providing a more complete array of responses to help researchers unlock deeper insights within the realm of healthcare. "
   ]
  },
  {
   "cell_type": "code",
   "execution_count": 1,
   "id": "63d8041d",
   "metadata": {},
   "outputs": [
    {
     "name": "stdout",
     "output_type": "stream",
     "text": [
      "Path to dataset files: /home/mshifa/.cache/kagglehub/datasets/thedevastator/comprehensive-medical-q-a-dataset/versions/2\n"
     ]
    }
   ],
   "source": [
    "# download the dataset from kaggle\n",
    "\n",
    "import kagglehub\n",
    "\n",
    "# Download latest version\n",
    "path = kagglehub.dataset_download(\"thedevastator/comprehensive-medical-q-a-dataset\")\n",
    "\n",
    "print(\"Path to dataset files:\", path)"
   ]
  },
  {
   "cell_type": "code",
   "execution_count": 1,
   "id": "7f5ce5ee",
   "metadata": {
    "scrolled": false
   },
   "outputs": [
    {
     "data": {
      "text/html": [
       "<div>\n",
       "<style scoped>\n",
       "    .dataframe tbody tr th:only-of-type {\n",
       "        vertical-align: middle;\n",
       "    }\n",
       "\n",
       "    .dataframe tbody tr th {\n",
       "        vertical-align: top;\n",
       "    }\n",
       "\n",
       "    .dataframe thead th {\n",
       "        text-align: right;\n",
       "    }\n",
       "</style>\n",
       "<table border=\"1\" class=\"dataframe\">\n",
       "  <thead>\n",
       "    <tr style=\"text-align: right;\">\n",
       "      <th></th>\n",
       "      <th>qtype</th>\n",
       "      <th>Question</th>\n",
       "      <th>Answer</th>\n",
       "    </tr>\n",
       "  </thead>\n",
       "  <tbody>\n",
       "    <tr>\n",
       "      <th>0</th>\n",
       "      <td>susceptibility</td>\n",
       "      <td>Who is at risk for Lymphocytic Choriomeningiti...</td>\n",
       "      <td>LCMV infections can occur after exposure to fr...</td>\n",
       "    </tr>\n",
       "    <tr>\n",
       "      <th>1</th>\n",
       "      <td>symptoms</td>\n",
       "      <td>What are the symptoms of Lymphocytic Choriomen...</td>\n",
       "      <td>LCMV is most commonly recognized as causing ne...</td>\n",
       "    </tr>\n",
       "    <tr>\n",
       "      <th>2</th>\n",
       "      <td>susceptibility</td>\n",
       "      <td>Who is at risk for Lymphocytic Choriomeningiti...</td>\n",
       "      <td>Individuals of all ages who come into contact ...</td>\n",
       "    </tr>\n",
       "    <tr>\n",
       "      <th>3</th>\n",
       "      <td>exams and tests</td>\n",
       "      <td>How to diagnose Lymphocytic Choriomeningitis (...</td>\n",
       "      <td>During the first phase of the disease, the mos...</td>\n",
       "    </tr>\n",
       "    <tr>\n",
       "      <th>4</th>\n",
       "      <td>treatment</td>\n",
       "      <td>What are the treatments for Lymphocytic Chorio...</td>\n",
       "      <td>Aseptic meningitis, encephalitis, or meningoen...</td>\n",
       "    </tr>\n",
       "  </tbody>\n",
       "</table>\n",
       "</div>"
      ],
      "text/plain": [
       "             qtype                                           Question  \\\n",
       "0   susceptibility  Who is at risk for Lymphocytic Choriomeningiti...   \n",
       "1         symptoms  What are the symptoms of Lymphocytic Choriomen...   \n",
       "2   susceptibility  Who is at risk for Lymphocytic Choriomeningiti...   \n",
       "3  exams and tests  How to diagnose Lymphocytic Choriomeningitis (...   \n",
       "4        treatment  What are the treatments for Lymphocytic Chorio...   \n",
       "\n",
       "                                              Answer  \n",
       "0  LCMV infections can occur after exposure to fr...  \n",
       "1  LCMV is most commonly recognized as causing ne...  \n",
       "2  Individuals of all ages who come into contact ...  \n",
       "3  During the first phase of the disease, the mos...  \n",
       "4  Aseptic meningitis, encephalitis, or meningoen...  "
      ]
     },
     "execution_count": 1,
     "metadata": {},
     "output_type": "execute_result"
    }
   ],
   "source": [
    "import json\n",
    "import re\n",
    "import pandas as pd\n",
    "from tqdm.auto import tqdm\n",
    "\n",
    "# Load dataset\n",
    "df_raw = pd.read_csv(\"./../dataset/medical_qa_raw.csv\")\n",
    "df_raw.head(5)"
   ]
  },
  {
   "cell_type": "code",
   "execution_count": 2,
   "id": "2f06e55b",
   "metadata": {},
   "outputs": [
    {
     "data": {
      "text/html": [
       "<div>\n",
       "<style scoped>\n",
       "    .dataframe tbody tr th:only-of-type {\n",
       "        vertical-align: middle;\n",
       "    }\n",
       "\n",
       "    .dataframe tbody tr th {\n",
       "        vertical-align: top;\n",
       "    }\n",
       "\n",
       "    .dataframe thead th {\n",
       "        text-align: right;\n",
       "    }\n",
       "</style>\n",
       "<table border=\"1\" class=\"dataframe\">\n",
       "  <thead>\n",
       "    <tr style=\"text-align: right;\">\n",
       "      <th></th>\n",
       "      <th>qtype</th>\n",
       "      <th>Question</th>\n",
       "      <th>Answer</th>\n",
       "    </tr>\n",
       "  </thead>\n",
       "  <tbody>\n",
       "    <tr>\n",
       "      <th>count</th>\n",
       "      <td>16407</td>\n",
       "      <td>16407</td>\n",
       "      <td>16407</td>\n",
       "    </tr>\n",
       "    <tr>\n",
       "      <th>unique</th>\n",
       "      <td>16</td>\n",
       "      <td>14979</td>\n",
       "      <td>15817</td>\n",
       "    </tr>\n",
       "    <tr>\n",
       "      <th>top</th>\n",
       "      <td>information</td>\n",
       "      <td>What causes Causes of Diabetes ?</td>\n",
       "      <td>This condition is inherited in an autosomal re...</td>\n",
       "    </tr>\n",
       "    <tr>\n",
       "      <th>freq</th>\n",
       "      <td>4535</td>\n",
       "      <td>20</td>\n",
       "      <td>348</td>\n",
       "    </tr>\n",
       "  </tbody>\n",
       "</table>\n",
       "</div>"
      ],
      "text/plain": [
       "              qtype                          Question  \\\n",
       "count         16407                             16407   \n",
       "unique           16                             14979   \n",
       "top     information  What causes Causes of Diabetes ?   \n",
       "freq           4535                                20   \n",
       "\n",
       "                                                   Answer  \n",
       "count                                               16407  \n",
       "unique                                              15817  \n",
       "top     This condition is inherited in an autosomal re...  \n",
       "freq                                                  348  "
      ]
     },
     "execution_count": 2,
     "metadata": {},
     "output_type": "execute_result"
    }
   ],
   "source": [
    "df_raw.describe()"
   ]
  },
  {
   "cell_type": "code",
   "execution_count": 3,
   "id": "ae8336c0",
   "metadata": {},
   "outputs": [
    {
     "name": "stdout",
     "output_type": "stream",
     "text": [
      "Shape: (16407, 3)\n",
      "Columns: ['qtype', 'Question', 'Answer']\n"
     ]
    }
   ],
   "source": [
    "# Shape and columns\n",
    "print(\"Shape:\", df_raw.shape)\n",
    "print(\"Columns:\", df_raw.columns.tolist())"
   ]
  },
  {
   "cell_type": "code",
   "execution_count": 4,
   "id": "b5755115",
   "metadata": {},
   "outputs": [
    {
     "name": "stdout",
     "output_type": "stream",
     "text": [
      "\n",
      "Missing Values:\n",
      "qtype       0\n",
      "Question    0\n",
      "Answer      0\n",
      "dtype: int64\n"
     ]
    }
   ],
   "source": [
    "# Null values check\n",
    "print(\"\\nMissing Values:\")\n",
    "print(df_raw.isnull().sum())"
   ]
  },
  {
   "cell_type": "code",
   "execution_count": 5,
   "id": "77e4c733",
   "metadata": {},
   "outputs": [],
   "source": [
    "# Function to clean spaces, tabs, and normalize text\n",
    "def clean_text(text):\n",
    "    if pd.isna(text):\n",
    "        return \"\"\n",
    "    text = str(text).replace(\"\\t\", \" \")             # replace tabs with spaces\n",
    "    text = re.sub(r\"\\s+\", \" \", text)                # collapse multiple spaces\n",
    "    text = re.sub(r\"\\s+\\?\", \"?\", text)              # remove space before ?\n",
    "    text = re.sub(r\"\\?+\", \"?\", text)                # replace ?? or ??? with single ?\n",
    "    return text.strip()\n",
    "\n",
    "df_clean = df_raw.copy()\n",
    "# Apply cleaning to all string columns\n",
    "for col in df_clean.select_dtypes(include=[\"object\"]).columns:\n",
    "    df_clean[col] = df_clean[col].apply(clean_text)\n",
    "  "
   ]
  },
  {
   "cell_type": "code",
   "execution_count": 6,
   "id": "8836d456",
   "metadata": {},
   "outputs": [
    {
     "name": "stdout",
     "output_type": "stream",
     "text": [
      "Original dataset shape: (16407, 3)\n",
      "After removing duplicate questions: (14979, 3)\n",
      "Removed 1428 duplicate questions\n"
     ]
    }
   ],
   "source": [
    "def remove_duplicate_questions(df):\n",
    "    \"\"\"Remove exact duplicate questions\"\"\"\n",
    "    print(f\"Original dataset shape: {df.shape}\")\n",
    "    \n",
    "    # Remove exact duplicates based on Question column\n",
    "    df_clean = df.drop_duplicates(subset=['Question'], keep='first')\n",
    "    \n",
    "    print(f\"After removing duplicate questions: {df_clean.shape}\")\n",
    "    print(f\"Removed {len(df) - len(df_clean)} duplicate questions\")\n",
    "    \n",
    "    return df_clean\n",
    "\n",
    "# Basic duplicate removal\n",
    "df_unique = remove_duplicate_questions(df_clean)"
   ]
  },
  {
   "cell_type": "code",
   "execution_count": 7,
   "id": "eedfc0b3",
   "metadata": {},
   "outputs": [
    {
     "data": {
      "text/html": [
       "<div>\n",
       "<style scoped>\n",
       "    .dataframe tbody tr th:only-of-type {\n",
       "        vertical-align: middle;\n",
       "    }\n",
       "\n",
       "    .dataframe tbody tr th {\n",
       "        vertical-align: top;\n",
       "    }\n",
       "\n",
       "    .dataframe thead th {\n",
       "        text-align: right;\n",
       "    }\n",
       "</style>\n",
       "<table border=\"1\" class=\"dataframe\">\n",
       "  <thead>\n",
       "    <tr style=\"text-align: right;\">\n",
       "      <th></th>\n",
       "      <th>qtype</th>\n",
       "      <th>Question</th>\n",
       "      <th>Answer</th>\n",
       "    </tr>\n",
       "  </thead>\n",
       "  <tbody>\n",
       "    <tr>\n",
       "      <th>count</th>\n",
       "      <td>14979</td>\n",
       "      <td>14979</td>\n",
       "      <td>14979</td>\n",
       "    </tr>\n",
       "    <tr>\n",
       "      <th>unique</th>\n",
       "      <td>16</td>\n",
       "      <td>14979</td>\n",
       "      <td>14443</td>\n",
       "    </tr>\n",
       "    <tr>\n",
       "      <th>top</th>\n",
       "      <td>information</td>\n",
       "      <td>Who is at risk for Lymphocytic Choriomeningiti...</td>\n",
       "      <td>This condition is inherited in an autosomal re...</td>\n",
       "    </tr>\n",
       "    <tr>\n",
       "      <th>freq</th>\n",
       "      <td>3822</td>\n",
       "      <td>1</td>\n",
       "      <td>348</td>\n",
       "    </tr>\n",
       "  </tbody>\n",
       "</table>\n",
       "</div>"
      ],
      "text/plain": [
       "              qtype                                           Question  \\\n",
       "count         14979                                              14979   \n",
       "unique           16                                              14979   \n",
       "top     information  Who is at risk for Lymphocytic Choriomeningiti...   \n",
       "freq           3822                                                  1   \n",
       "\n",
       "                                                   Answer  \n",
       "count                                               14979  \n",
       "unique                                              14443  \n",
       "top     This condition is inherited in an autosomal re...  \n",
       "freq                                                  348  "
      ]
     },
     "execution_count": 7,
     "metadata": {},
     "output_type": "execute_result"
    }
   ],
   "source": [
    "df_unique.describe()"
   ]
  },
  {
   "cell_type": "markdown",
   "id": "82c69397",
   "metadata": {},
   "source": [
    "#### generate unique id for each record"
   ]
  },
  {
   "cell_type": "code",
   "execution_count": 8,
   "id": "5c6c644b",
   "metadata": {},
   "outputs": [],
   "source": [
    "import hashlib\n",
    "def generate_document_id(doc):\n",
    "    # combined = f\"{doc['course']}-{doc['question']}\"\n",
    "    combined = f\"{doc['Question']}-{doc['Answer'][:15]}\"\n",
    "    hash_object = hashlib.md5(combined.encode())\n",
    "    hash_hex = hash_object.hexdigest()\n",
    "    document_id = hash_hex[:8]\n",
    "    return document_id"
   ]
  },
  {
   "cell_type": "code",
   "execution_count": 9,
   "id": "9cc763b0",
   "metadata": {},
   "outputs": [
    {
     "name": "stderr",
     "output_type": "stream",
     "text": [
      "/tmp/ipykernel_99295/769640317.py:1: SettingWithCopyWarning: \n",
      "A value is trying to be set on a copy of a slice from a DataFrame.\n",
      "Try using .loc[row_indexer,col_indexer] = value instead\n",
      "\n",
      "See the caveats in the documentation: https://pandas.pydata.org/pandas-docs/stable/user_guide/indexing.html#returning-a-view-versus-a-copy\n",
      "  df_unique[\"id\"] = df_unique.apply(lambda row: generate_document_id(row), axis=1)\n"
     ]
    }
   ],
   "source": [
    "df_unique[\"id\"] = df_unique.apply(lambda row: generate_document_id(row), axis=1)"
   ]
  },
  {
   "cell_type": "code",
   "execution_count": 10,
   "id": "a03b1f0b",
   "metadata": {},
   "outputs": [],
   "source": [
    "# Save cleaned CSV\n",
    "df_unique.to_csv(\"./../dataset/medical_qa_with_id.csv\", index=False)"
   ]
  },
  {
   "cell_type": "code",
   "execution_count": 11,
   "id": "c0d043aa",
   "metadata": {},
   "outputs": [
    {
     "data": {
      "text/html": [
       "<div>\n",
       "<style scoped>\n",
       "    .dataframe tbody tr th:only-of-type {\n",
       "        vertical-align: middle;\n",
       "    }\n",
       "\n",
       "    .dataframe tbody tr th {\n",
       "        vertical-align: top;\n",
       "    }\n",
       "\n",
       "    .dataframe thead th {\n",
       "        text-align: right;\n",
       "    }\n",
       "</style>\n",
       "<table border=\"1\" class=\"dataframe\">\n",
       "  <thead>\n",
       "    <tr style=\"text-align: right;\">\n",
       "      <th></th>\n",
       "      <th>qtype</th>\n",
       "      <th>Question</th>\n",
       "      <th>Answer</th>\n",
       "      <th>id</th>\n",
       "    </tr>\n",
       "  </thead>\n",
       "  <tbody>\n",
       "    <tr>\n",
       "      <th>0</th>\n",
       "      <td>susceptibility</td>\n",
       "      <td>Who is at risk for Lymphocytic Choriomeningiti...</td>\n",
       "      <td>LCMV infections can occur after exposure to fr...</td>\n",
       "      <td>f72c0d85</td>\n",
       "    </tr>\n",
       "    <tr>\n",
       "      <th>1</th>\n",
       "      <td>symptoms</td>\n",
       "      <td>What are the symptoms of Lymphocytic Choriomen...</td>\n",
       "      <td>LCMV is most commonly recognized as causing ne...</td>\n",
       "      <td>9e8711f0</td>\n",
       "    </tr>\n",
       "    <tr>\n",
       "      <th>3</th>\n",
       "      <td>exams and tests</td>\n",
       "      <td>How to diagnose Lymphocytic Choriomeningitis (...</td>\n",
       "      <td>During the first phase of the disease, the mos...</td>\n",
       "      <td>261d4d14</td>\n",
       "    </tr>\n",
       "    <tr>\n",
       "      <th>4</th>\n",
       "      <td>treatment</td>\n",
       "      <td>What are the treatments for Lymphocytic Chorio...</td>\n",
       "      <td>Aseptic meningitis, encephalitis, or meningoen...</td>\n",
       "      <td>9e68d9a5</td>\n",
       "    </tr>\n",
       "    <tr>\n",
       "      <th>5</th>\n",
       "      <td>prevention</td>\n",
       "      <td>How to prevent Lymphocytic Choriomeningitis (L...</td>\n",
       "      <td>LCMV infection can be prevented by avoiding co...</td>\n",
       "      <td>2b1db317</td>\n",
       "    </tr>\n",
       "    <tr>\n",
       "      <th>...</th>\n",
       "      <td>...</td>\n",
       "      <td>...</td>\n",
       "      <td>...</td>\n",
       "      <td>...</td>\n",
       "    </tr>\n",
       "    <tr>\n",
       "      <th>16402</th>\n",
       "      <td>symptoms</td>\n",
       "      <td>What are the symptoms of Familial visceral myo...</td>\n",
       "      <td>What are the signs and symptoms of Familial vi...</td>\n",
       "      <td>78c3def4</td>\n",
       "    </tr>\n",
       "    <tr>\n",
       "      <th>16403</th>\n",
       "      <td>information</td>\n",
       "      <td>What is (are) Pseudopelade of Brocq?</td>\n",
       "      <td>Pseudopelade of Brocq (PBB) is a slowly progre...</td>\n",
       "      <td>1cac2b57</td>\n",
       "    </tr>\n",
       "    <tr>\n",
       "      <th>16404</th>\n",
       "      <td>symptoms</td>\n",
       "      <td>What are the symptoms of Pseudopelade of Brocq?</td>\n",
       "      <td>What are the signs and symptoms of Pseudopelad...</td>\n",
       "      <td>6e42cd46</td>\n",
       "    </tr>\n",
       "    <tr>\n",
       "      <th>16405</th>\n",
       "      <td>treatment</td>\n",
       "      <td>What are the treatments for Pseudopelade of Br...</td>\n",
       "      <td>Is there treatment or a cure for pseudopelade ...</td>\n",
       "      <td>1e5e6716</td>\n",
       "    </tr>\n",
       "    <tr>\n",
       "      <th>16406</th>\n",
       "      <td>information</td>\n",
       "      <td>What is (are) Desmoplastic small round cell tu...</td>\n",
       "      <td>Desmoplastic small round cell tumors (DSRCT), ...</td>\n",
       "      <td>4c5ad3c7</td>\n",
       "    </tr>\n",
       "  </tbody>\n",
       "</table>\n",
       "<p>14979 rows × 4 columns</p>\n",
       "</div>"
      ],
      "text/plain": [
       "                 qtype                                           Question  \\\n",
       "0       susceptibility  Who is at risk for Lymphocytic Choriomeningiti...   \n",
       "1             symptoms  What are the symptoms of Lymphocytic Choriomen...   \n",
       "3      exams and tests  How to diagnose Lymphocytic Choriomeningitis (...   \n",
       "4            treatment  What are the treatments for Lymphocytic Chorio...   \n",
       "5           prevention  How to prevent Lymphocytic Choriomeningitis (L...   \n",
       "...                ...                                                ...   \n",
       "16402         symptoms  What are the symptoms of Familial visceral myo...   \n",
       "16403      information               What is (are) Pseudopelade of Brocq?   \n",
       "16404         symptoms    What are the symptoms of Pseudopelade of Brocq?   \n",
       "16405        treatment  What are the treatments for Pseudopelade of Br...   \n",
       "16406      information  What is (are) Desmoplastic small round cell tu...   \n",
       "\n",
       "                                                  Answer        id  \n",
       "0      LCMV infections can occur after exposure to fr...  f72c0d85  \n",
       "1      LCMV is most commonly recognized as causing ne...  9e8711f0  \n",
       "3      During the first phase of the disease, the mos...  261d4d14  \n",
       "4      Aseptic meningitis, encephalitis, or meningoen...  9e68d9a5  \n",
       "5      LCMV infection can be prevented by avoiding co...  2b1db317  \n",
       "...                                                  ...       ...  \n",
       "16402  What are the signs and symptoms of Familial vi...  78c3def4  \n",
       "16403  Pseudopelade of Brocq (PBB) is a slowly progre...  1cac2b57  \n",
       "16404  What are the signs and symptoms of Pseudopelad...  6e42cd46  \n",
       "16405  Is there treatment or a cure for pseudopelade ...  1e5e6716  \n",
       "16406  Desmoplastic small round cell tumors (DSRCT), ...  4c5ad3c7  \n",
       "\n",
       "[14979 rows x 4 columns]"
      ]
     },
     "execution_count": 11,
     "metadata": {},
     "output_type": "execute_result"
    }
   ],
   "source": [
    "df_unique"
   ]
  },
  {
   "cell_type": "markdown",
   "id": "febf20e9",
   "metadata": {},
   "source": [
    "### Save the documents as a json file"
   ]
  },
  {
   "cell_type": "code",
   "execution_count": 12,
   "id": "59443452",
   "metadata": {},
   "outputs": [],
   "source": [
    "documents = []\n",
    "\n",
    "for  _, row in df_unique.iterrows():\n",
    "    doc = {\n",
    "        \"answer\": row[\"Answer\"].strip(),\n",
    "        \"question\": row[\"Question\"].strip(),\n",
    "        \"qtype\": row['qtype'].strip(),\n",
    "        \"id\": row['id']\n",
    "\n",
    "    }\n",
    "    documents.append(doc)\n",
    "\n",
    "final_data = [\n",
    "    {\n",
    "        \"document_info\": \"Comprehensive Medical Q&A Dataset\",\n",
    "        \"documents\": documents\n",
    "    }\n",
    "]"
   ]
  },
  {
   "cell_type": "code",
   "execution_count": 13,
   "id": "f1a5ac53",
   "metadata": {},
   "outputs": [
    {
     "name": "stdout",
     "output_type": "stream",
     "text": [
      "Saved cleaned JSON at ./../dataset/medical_qa_documents_with_id.json\n"
     ]
    }
   ],
   "source": [
    "# Save JSON file\n",
    "with open(\"./../dataset/medical_qa_documents_with_id.json\", \"w\", encoding=\"utf-8\") as f_in:\n",
    "    json.dump(final_data, f_in, indent=2, ensure_ascii=False)\n",
    "\n",
    "print(\"Saved cleaned JSON at ./../dataset/medical_qa_documents_with_id.json\")\n"
   ]
  },
  {
   "cell_type": "code",
   "execution_count": 14,
   "id": "73785027",
   "metadata": {},
   "outputs": [
    {
     "name": "stdout",
     "output_type": "stream",
     "text": [
      "[\r\n",
      "  {\r\n",
      "    \"document_info\": \"Comprehensive Medical Q&A Dataset\",\r\n",
      "    \"documents\": [\r\n",
      "      {\r\n",
      "        \"answer\": \"LCMV infections can occur after exposure to fresh urine, droppings, saliva, or nesting materials from infected rodents. Transmission may also occur when these materials are directly introduced into broken skin, the nose, the eyes, or the mouth, or presumably, via the bite of an infected rodent. Person-to-person transmission has not been reported, with the exception of vertical transmission from infected mother to fetus, and rarely, through organ transplantation.\",\r\n",
      "        \"question\": \"Who is at risk for Lymphocytic Choriomeningitis (LCM)?\",\r\n",
      "        \"qtype\": \"susceptibility\",\r\n",
      "        \"id\": \"f72c0d85\"\r\n",
      "      },\r\n"
     ]
    }
   ],
   "source": [
    "!head ./../dataset/medical_qa_documents_with_id.json\n"
   ]
  },
  {
   "cell_type": "code",
   "execution_count": null,
   "id": "05b9b472",
   "metadata": {},
   "outputs": [],
   "source": []
  }
 ],
 "metadata": {
  "kernelspec": {
   "display_name": "llm",
   "language": "python",
   "name": "llm"
  },
  "language_info": {
   "codemirror_mode": {
    "name": "ipython",
    "version": 3
   },
   "file_extension": ".py",
   "mimetype": "text/x-python",
   "name": "python",
   "nbconvert_exporter": "python",
   "pygments_lexer": "ipython3",
   "version": "3.10.13"
  }
 },
 "nbformat": 4,
 "nbformat_minor": 5
}
